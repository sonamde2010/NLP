{
  "nbformat": 4,
  "nbformat_minor": 0,
  "metadata": {
    "colab": {
      "name": "NER_Bi_LSTM.ipynb",
      "provenance": [],
      "collapsed_sections": []
    },
    "kernelspec": {
      "name": "python3",
      "display_name": "Python 3"
    }
  },
  "cells": [
    {
      "cell_type": "code",
      "metadata": {
        "colab": {
          "base_uri": "https://localhost:8080/"
        },
        "id": "UH4x65KfYVFd",
        "outputId": "11b2b178-5e95-4a08-ea07-09f1017f0e95"
      },
      "source": [
        "import tensorflow as tf\n",
        "import tensorflow.keras as K\n",
        "from tensorflow.keras import backend as Kb\n",
        "import matplotlib.pyplot as plt\n",
        "\n",
        "print(tf.__version__)\n",
        "print(K.__version__)"
      ],
      "execution_count": null,
      "outputs": [
        {
          "output_type": "stream",
          "text": [
            "/usr/local/lib/python3.7/dist-packages/tensorflow/python/framework/dtypes.py:526: FutureWarning: Passing (type, 1) or '1type' as a synonym of type is deprecated; in a future version of numpy, it will be understood as (type, (1,)) / '(1,)type'.\n",
            "  _np_qint8 = np.dtype([(\"qint8\", np.int8, 1)])\n",
            "/usr/local/lib/python3.7/dist-packages/tensorflow/python/framework/dtypes.py:527: FutureWarning: Passing (type, 1) or '1type' as a synonym of type is deprecated; in a future version of numpy, it will be understood as (type, (1,)) / '(1,)type'.\n",
            "  _np_quint8 = np.dtype([(\"quint8\", np.uint8, 1)])\n",
            "/usr/local/lib/python3.7/dist-packages/tensorflow/python/framework/dtypes.py:528: FutureWarning: Passing (type, 1) or '1type' as a synonym of type is deprecated; in a future version of numpy, it will be understood as (type, (1,)) / '(1,)type'.\n",
            "  _np_qint16 = np.dtype([(\"qint16\", np.int16, 1)])\n",
            "/usr/local/lib/python3.7/dist-packages/tensorflow/python/framework/dtypes.py:529: FutureWarning: Passing (type, 1) or '1type' as a synonym of type is deprecated; in a future version of numpy, it will be understood as (type, (1,)) / '(1,)type'.\n",
            "  _np_quint16 = np.dtype([(\"quint16\", np.uint16, 1)])\n",
            "/usr/local/lib/python3.7/dist-packages/tensorflow/python/framework/dtypes.py:530: FutureWarning: Passing (type, 1) or '1type' as a synonym of type is deprecated; in a future version of numpy, it will be understood as (type, (1,)) / '(1,)type'.\n",
            "  _np_qint32 = np.dtype([(\"qint32\", np.int32, 1)])\n",
            "/usr/local/lib/python3.7/dist-packages/tensorflow/python/framework/dtypes.py:535: FutureWarning: Passing (type, 1) or '1type' as a synonym of type is deprecated; in a future version of numpy, it will be understood as (type, (1,)) / '(1,)type'.\n",
            "  np_resource = np.dtype([(\"resource\", np.ubyte, 1)])\n"
          ],
          "name": "stderr"
        },
        {
          "output_type": "stream",
          "text": [
            "1.13.1\n",
            "2.2.4-tf\n"
          ],
          "name": "stdout"
        }
      ]
    },
    {
      "cell_type": "code",
      "metadata": {
        "colab": {
          "base_uri": "https://localhost:8080/",
          "height": 278
        },
        "id": "WaC8DAkbT-Hw",
        "outputId": "0cd2ea5f-e9c2-464d-c7a4-3d9973a3b60a"
      },
      "source": [
        "import pandas as pd\n",
        "df = pd.read_csv(\"/content/drive/MyDrive/ner.csv\", encoding = \"ISO-8859-1\", error_bad_lines=False)\n",
        "df.head()"
      ],
      "execution_count": null,
      "outputs": [
        {
          "output_type": "stream",
          "text": [
            "b'Skipping line 281837: expected 25 fields, saw 34\\n'\n"
          ],
          "name": "stderr"
        },
        {
          "output_type": "execute_result",
          "data": {
            "text/html": [
              "<div>\n",
              "<style scoped>\n",
              "    .dataframe tbody tr th:only-of-type {\n",
              "        vertical-align: middle;\n",
              "    }\n",
              "\n",
              "    .dataframe tbody tr th {\n",
              "        vertical-align: top;\n",
              "    }\n",
              "\n",
              "    .dataframe thead th {\n",
              "        text-align: right;\n",
              "    }\n",
              "</style>\n",
              "<table border=\"1\" class=\"dataframe\">\n",
              "  <thead>\n",
              "    <tr style=\"text-align: right;\">\n",
              "      <th></th>\n",
              "      <th>Unnamed: 0</th>\n",
              "      <th>lemma</th>\n",
              "      <th>next-lemma</th>\n",
              "      <th>next-next-lemma</th>\n",
              "      <th>next-next-pos</th>\n",
              "      <th>next-next-shape</th>\n",
              "      <th>next-next-word</th>\n",
              "      <th>next-pos</th>\n",
              "      <th>next-shape</th>\n",
              "      <th>next-word</th>\n",
              "      <th>pos</th>\n",
              "      <th>prev-iob</th>\n",
              "      <th>prev-lemma</th>\n",
              "      <th>prev-pos</th>\n",
              "      <th>prev-prev-iob</th>\n",
              "      <th>prev-prev-lemma</th>\n",
              "      <th>prev-prev-pos</th>\n",
              "      <th>prev-prev-shape</th>\n",
              "      <th>prev-prev-word</th>\n",
              "      <th>prev-shape</th>\n",
              "      <th>prev-word</th>\n",
              "      <th>sentence_idx</th>\n",
              "      <th>shape</th>\n",
              "      <th>word</th>\n",
              "      <th>tag</th>\n",
              "    </tr>\n",
              "  </thead>\n",
              "  <tbody>\n",
              "    <tr>\n",
              "      <th>0</th>\n",
              "      <td>0</td>\n",
              "      <td>thousand</td>\n",
              "      <td>of</td>\n",
              "      <td>demonstr</td>\n",
              "      <td>NNS</td>\n",
              "      <td>lowercase</td>\n",
              "      <td>demonstrators</td>\n",
              "      <td>IN</td>\n",
              "      <td>lowercase</td>\n",
              "      <td>of</td>\n",
              "      <td>NNS</td>\n",
              "      <td>__START1__</td>\n",
              "      <td>__start1__</td>\n",
              "      <td>__START1__</td>\n",
              "      <td>__START2__</td>\n",
              "      <td>__start2__</td>\n",
              "      <td>__START2__</td>\n",
              "      <td>wildcard</td>\n",
              "      <td>__START2__</td>\n",
              "      <td>wildcard</td>\n",
              "      <td>__START1__</td>\n",
              "      <td>1.0</td>\n",
              "      <td>capitalized</td>\n",
              "      <td>Thousands</td>\n",
              "      <td>O</td>\n",
              "    </tr>\n",
              "    <tr>\n",
              "      <th>1</th>\n",
              "      <td>1</td>\n",
              "      <td>of</td>\n",
              "      <td>demonstr</td>\n",
              "      <td>have</td>\n",
              "      <td>VBP</td>\n",
              "      <td>lowercase</td>\n",
              "      <td>have</td>\n",
              "      <td>NNS</td>\n",
              "      <td>lowercase</td>\n",
              "      <td>demonstrators</td>\n",
              "      <td>IN</td>\n",
              "      <td>O</td>\n",
              "      <td>thousand</td>\n",
              "      <td>NNS</td>\n",
              "      <td>__START1__</td>\n",
              "      <td>__start1__</td>\n",
              "      <td>__START1__</td>\n",
              "      <td>wildcard</td>\n",
              "      <td>__START1__</td>\n",
              "      <td>capitalized</td>\n",
              "      <td>Thousands</td>\n",
              "      <td>1.0</td>\n",
              "      <td>lowercase</td>\n",
              "      <td>of</td>\n",
              "      <td>O</td>\n",
              "    </tr>\n",
              "    <tr>\n",
              "      <th>2</th>\n",
              "      <td>2</td>\n",
              "      <td>demonstr</td>\n",
              "      <td>have</td>\n",
              "      <td>march</td>\n",
              "      <td>VBN</td>\n",
              "      <td>lowercase</td>\n",
              "      <td>marched</td>\n",
              "      <td>VBP</td>\n",
              "      <td>lowercase</td>\n",
              "      <td>have</td>\n",
              "      <td>NNS</td>\n",
              "      <td>O</td>\n",
              "      <td>of</td>\n",
              "      <td>IN</td>\n",
              "      <td>O</td>\n",
              "      <td>thousand</td>\n",
              "      <td>NNS</td>\n",
              "      <td>capitalized</td>\n",
              "      <td>Thousands</td>\n",
              "      <td>lowercase</td>\n",
              "      <td>of</td>\n",
              "      <td>1.0</td>\n",
              "      <td>lowercase</td>\n",
              "      <td>demonstrators</td>\n",
              "      <td>O</td>\n",
              "    </tr>\n",
              "    <tr>\n",
              "      <th>3</th>\n",
              "      <td>3</td>\n",
              "      <td>have</td>\n",
              "      <td>march</td>\n",
              "      <td>through</td>\n",
              "      <td>IN</td>\n",
              "      <td>lowercase</td>\n",
              "      <td>through</td>\n",
              "      <td>VBN</td>\n",
              "      <td>lowercase</td>\n",
              "      <td>marched</td>\n",
              "      <td>VBP</td>\n",
              "      <td>O</td>\n",
              "      <td>demonstr</td>\n",
              "      <td>NNS</td>\n",
              "      <td>O</td>\n",
              "      <td>of</td>\n",
              "      <td>IN</td>\n",
              "      <td>lowercase</td>\n",
              "      <td>of</td>\n",
              "      <td>lowercase</td>\n",
              "      <td>demonstrators</td>\n",
              "      <td>1.0</td>\n",
              "      <td>lowercase</td>\n",
              "      <td>have</td>\n",
              "      <td>O</td>\n",
              "    </tr>\n",
              "    <tr>\n",
              "      <th>4</th>\n",
              "      <td>4</td>\n",
              "      <td>march</td>\n",
              "      <td>through</td>\n",
              "      <td>london</td>\n",
              "      <td>NNP</td>\n",
              "      <td>capitalized</td>\n",
              "      <td>London</td>\n",
              "      <td>IN</td>\n",
              "      <td>lowercase</td>\n",
              "      <td>through</td>\n",
              "      <td>VBN</td>\n",
              "      <td>O</td>\n",
              "      <td>have</td>\n",
              "      <td>VBP</td>\n",
              "      <td>O</td>\n",
              "      <td>demonstr</td>\n",
              "      <td>NNS</td>\n",
              "      <td>lowercase</td>\n",
              "      <td>demonstrators</td>\n",
              "      <td>lowercase</td>\n",
              "      <td>have</td>\n",
              "      <td>1.0</td>\n",
              "      <td>lowercase</td>\n",
              "      <td>marched</td>\n",
              "      <td>O</td>\n",
              "    </tr>\n",
              "  </tbody>\n",
              "</table>\n",
              "</div>"
            ],
            "text/plain": [
              "   Unnamed: 0     lemma next-lemma  ...        shape           word tag\n",
              "0           0  thousand         of  ...  capitalized      Thousands   O\n",
              "1           1        of   demonstr  ...    lowercase             of   O\n",
              "2           2  demonstr       have  ...    lowercase  demonstrators   O\n",
              "3           3      have      march  ...    lowercase           have   O\n",
              "4           4     march    through  ...    lowercase        marched   O\n",
              "\n",
              "[5 rows x 25 columns]"
            ]
          },
          "metadata": {
            "tags": []
          },
          "execution_count": 2
        }
      ]
    },
    {
      "cell_type": "code",
      "metadata": {
        "colab": {
          "base_uri": "https://localhost:8080/",
          "height": 112
        },
        "id": "QeGjgbBiUHOv",
        "outputId": "ef9de942-e5ce-4811-b0a2-711cb5ac6eb7"
      },
      "source": [
        "data = df[['sentence_idx','word','tag']]\n",
        "\n",
        "data.head(2)"
      ],
      "execution_count": null,
      "outputs": [
        {
          "output_type": "execute_result",
          "data": {
            "text/html": [
              "<div>\n",
              "<style scoped>\n",
              "    .dataframe tbody tr th:only-of-type {\n",
              "        vertical-align: middle;\n",
              "    }\n",
              "\n",
              "    .dataframe tbody tr th {\n",
              "        vertical-align: top;\n",
              "    }\n",
              "\n",
              "    .dataframe thead th {\n",
              "        text-align: right;\n",
              "    }\n",
              "</style>\n",
              "<table border=\"1\" class=\"dataframe\">\n",
              "  <thead>\n",
              "    <tr style=\"text-align: right;\">\n",
              "      <th></th>\n",
              "      <th>sentence_idx</th>\n",
              "      <th>word</th>\n",
              "      <th>tag</th>\n",
              "    </tr>\n",
              "  </thead>\n",
              "  <tbody>\n",
              "    <tr>\n",
              "      <th>0</th>\n",
              "      <td>1.0</td>\n",
              "      <td>Thousands</td>\n",
              "      <td>O</td>\n",
              "    </tr>\n",
              "    <tr>\n",
              "      <th>1</th>\n",
              "      <td>1.0</td>\n",
              "      <td>of</td>\n",
              "      <td>O</td>\n",
              "    </tr>\n",
              "  </tbody>\n",
              "</table>\n",
              "</div>"
            ],
            "text/plain": [
              "   sentence_idx       word tag\n",
              "0           1.0  Thousands   O\n",
              "1           1.0         of   O"
            ]
          },
          "metadata": {
            "tags": []
          },
          "execution_count": 4
        }
      ]
    },
    {
      "cell_type": "code",
      "metadata": {
        "colab": {
          "base_uri": "https://localhost:8080/"
        },
        "id": "MRwdtrXAUHQ9",
        "outputId": "adc34214-1013-4052-d9f7-80eaa235d739"
      },
      "source": [
        "df['tag'].value_counts()"
      ],
      "execution_count": null,
      "outputs": [
        {
          "output_type": "execute_result",
          "data": {
            "text/plain": [
              "O        889973\n",
              "B-geo     37525\n",
              "B-tim     20193\n",
              "B-org     20184\n",
              "I-per     17382\n",
              "B-per     17011\n",
              "I-org     16537\n",
              "B-gpe     16392\n",
              "I-geo      7409\n",
              "I-tim      6298\n",
              "B-art       434\n",
              "B-eve       348\n",
              "I-eve       297\n",
              "I-art       280\n",
              "I-gpe       229\n",
              "B-nat       226\n",
              "I-nat        76\n",
              "Name: tag, dtype: int64"
            ]
          },
          "metadata": {
            "tags": []
          },
          "execution_count": 5
        }
      ]
    },
    {
      "cell_type": "code",
      "metadata": {
        "id": "ttxrWAV4UHUg"
      },
      "source": [
        "class SentenceGetter(object):\n",
        "    \n",
        "    def __init__(self, dataset):\n",
        "        self.n_sent = 1\n",
        "        self.dataset = dataset\n",
        "        self.empty = False\n",
        "        agg_func = lambda s: [(w, t) for w,t in zip(s[\"word\"].values.tolist(),\n",
        "                                                        s[\"tag\"].values.tolist())]\n",
        "        self.grouped = self.dataset.groupby(\"sentence_idx\").apply(agg_func)\n",
        "        self.sentences = [s for s in self.grouped]\n",
        "    \n",
        "    def get_next(self):\n",
        "        try:\n",
        "            s = self.grouped[\"Sentence: {}\".format(self.n_sent)]\n",
        "            self.n_sent += 1\n",
        "            return s\n",
        "        except:\n",
        "            return None\n",
        "          \n",
        "getter = SentenceGetter(data)\n",
        "sentences = getter.sentences"
      ],
      "execution_count": null,
      "outputs": []
    },
    {
      "cell_type": "code",
      "metadata": {
        "colab": {
          "base_uri": "https://localhost:8080/"
        },
        "id": "FHxDdPlvVPNk",
        "outputId": "c62fb0b1-d8a2-4aba-c007-4e5110011267"
      },
      "source": [
        "print(sentences[1:3])"
      ],
      "execution_count": null,
      "outputs": [
        {
          "output_type": "stream",
          "text": [
            "[[('Families', 'O'), ('of', 'O'), ('soldiers', 'O'), ('killed', 'O'), ('in', 'O'), ('the', 'O'), ('conflict', 'O'), ('joined', 'O'), ('the', 'O'), ('protesters', 'O'), ('who', 'O'), ('carried', 'O'), ('banners', 'O'), ('with', 'O'), ('such', 'O'), ('slogans', 'O'), ('as', 'O'), ('\"', 'O'), ('Bush', 'B-per'), ('Number', 'O'), ('One', 'O'), ('Terrorist', 'O'), ('\"', 'O'), ('and', 'O'), ('\"', 'O'), ('Stop', 'O'), ('the', 'O'), ('Bombings', 'O'), ('.', 'O'), ('\"', 'O'), ('Families', 'O'), ('of', 'O'), ('soldiers', 'O'), ('killed', 'O'), ('in', 'O'), ('the', 'O'), ('conflict', 'O'), ('joined', 'O'), ('the', 'O'), ('protesters', 'O'), ('who', 'O'), ('carried', 'O'), ('banners', 'O'), ('with', 'O'), ('such', 'O'), ('slogans', 'O'), ('as', 'O'), ('\"', 'O'), ('Bush', 'B-per'), ('Number', 'O'), ('One', 'O'), ('Terrorist', 'O'), ('\"', 'O'), ('and', 'O'), ('\"', 'O'), ('Stop', 'O'), ('the', 'O'), ('Bombings', 'O'), ('.', 'O'), ('\"', 'O')], [('They', 'O'), ('marched', 'O'), ('from', 'O'), ('the', 'O'), ('Houses', 'O'), ('of', 'O'), ('Parliament', 'O'), ('to', 'O'), ('a', 'O'), ('rally', 'O'), ('in', 'O'), ('Hyde', 'B-geo'), ('Park', 'I-geo'), ('.', 'O'), ('They', 'O'), ('marched', 'O'), ('from', 'O'), ('the', 'O'), ('Houses', 'O'), ('of', 'O'), ('Parliament', 'O'), ('to', 'O'), ('a', 'O'), ('rally', 'O'), ('in', 'O'), ('Hyde', 'B-geo'), ('Park', 'I-geo'), ('.', 'O')]]\n"
          ],
          "name": "stdout"
        }
      ]
    },
    {
      "cell_type": "code",
      "metadata": {
        "id": "xq3-BBL3VPUO"
      },
      "source": [
        "from math import nan\n",
        "\n",
        "words = list(set(data[\"word\"].values))\n",
        "n_words = len(words)\n",
        "\n",
        "tags = []\n",
        "for tag in set(data[\"tag\"].values):\n",
        "    if tag is nan or isinstance(tag, float):\n",
        "        tags.append('unk')\n",
        "    else:\n",
        "        tags.append(tag)\n",
        "n_tags = len(tags)"
      ],
      "execution_count": null,
      "outputs": []
    },
    {
      "cell_type": "code",
      "metadata": {
        "id": "1a3M9k5HVWOw"
      },
      "source": [
        "from future.utils import iteritems\n",
        "\n",
        "word2idx = {w: i for i, w in enumerate(words)}\n",
        "tag2idx = {t: i for i, t in enumerate(tags)}\n",
        "idx2tag = {v: k for k, v in iteritems(tag2idx)}"
      ],
      "execution_count": null,
      "outputs": []
    },
    {
      "cell_type": "code",
      "metadata": {
        "colab": {
          "base_uri": "https://localhost:8080/"
        },
        "id": "Zs7x-BsvVW-h",
        "outputId": "32f7b2f4-c833-4ec2-da5f-e01fc30228fd"
      },
      "source": [
        "from keras.preprocessing.sequence import pad_sequences\n",
        "from keras.utils import to_categorical\n",
        "from sklearn.model_selection import train_test_split\n",
        "\n",
        "maxlen = max([len(s) for s in sentences])\n",
        "\n",
        "X = [[word2idx[w[0]] for w in s] for s in sentences]\n",
        "X = pad_sequences(maxlen=maxlen, sequences=X, padding=\"post\",value=n_words - 1)\n",
        "\n",
        "y = [[tag2idx[w[1]] for w in s] for s in sentences]\n",
        "y = pad_sequences(maxlen=maxlen, sequences=y, padding=\"post\", value=tag2idx[\"O\"])\n",
        "y = [to_categorical(i, num_classes=n_tags) for i in y]\n",
        "\n",
        "# Split train and test data\n",
        "X_train, X_test, y_train, y_test = train_test_split(X, y, test_size=0.2)"
      ],
      "execution_count": null,
      "outputs": [
        {
          "output_type": "stream",
          "text": [
            "Using TensorFlow backend.\n"
          ],
          "name": "stderr"
        }
      ]
    },
    {
      "cell_type": "code",
      "metadata": {
        "colab": {
          "base_uri": "https://localhost:8080/"
        },
        "id": "oCBz1a3DVNTi",
        "outputId": "c04b9925-45fe-48b7-db83-4377be215440"
      },
      "source": [
        "len(X)"
      ],
      "execution_count": null,
      "outputs": [
        {
          "output_type": "execute_result",
          "data": {
            "text/plain": [
              "35177"
            ]
          },
          "metadata": {
            "tags": []
          },
          "execution_count": 14
        }
      ]
    },
    {
      "cell_type": "code",
      "metadata": {
        "colab": {
          "base_uri": "https://localhost:8080/"
        },
        "id": "XRlpM91QEcdM",
        "outputId": "ca6b8198-98f9-42bc-cc50-ad34377eff5d"
      },
      "source": [
        "len(X_train)"
      ],
      "execution_count": null,
      "outputs": [
        {
          "output_type": "execute_result",
          "data": {
            "text/plain": [
              "28141"
            ]
          },
          "metadata": {
            "tags": []
          },
          "execution_count": 15
        }
      ]
    },
    {
      "cell_type": "code",
      "metadata": {
        "colab": {
          "base_uri": "https://localhost:8080/"
        },
        "id": "k5iyzhtRITsZ",
        "outputId": "c03beb2a-309e-493d-c037-96d111b428dc"
      },
      "source": [
        "len(X_test)"
      ],
      "execution_count": null,
      "outputs": [
        {
          "output_type": "execute_result",
          "data": {
            "text/plain": [
              "7036"
            ]
          },
          "metadata": {
            "tags": []
          },
          "execution_count": 12
        }
      ]
    },
    {
      "cell_type": "code",
      "metadata": {
        "colab": {
          "base_uri": "https://localhost:8080/"
        },
        "id": "pojnO4DzVa7v",
        "outputId": "54cf9272-8410-40b3-d2b7-b97577a83c71"
      },
      "source": [
        "!pip install git+https://www.github.com/keras-team/keras-contrib.git"
      ],
      "execution_count": null,
      "outputs": [
        {
          "output_type": "stream",
          "text": [
            "Collecting git+https://www.github.com/keras-team/keras-contrib.git\n",
            "  Cloning https://www.github.com/keras-team/keras-contrib.git to /tmp/pip-req-build-hwaja291\n",
            "  Running command git clone -q https://www.github.com/keras-team/keras-contrib.git /tmp/pip-req-build-hwaja291\n",
            "Requirement already satisfied: keras in /usr/local/lib/python3.7/dist-packages (from keras-contrib==2.0.8) (2.2.4)\n",
            "Requirement already satisfied: keras-preprocessing>=1.0.5 in /usr/local/lib/python3.7/dist-packages (from keras->keras-contrib==2.0.8) (1.1.2)\n",
            "Requirement already satisfied: numpy>=1.9.1 in /usr/local/lib/python3.7/dist-packages (from keras->keras-contrib==2.0.8) (1.19.5)\n",
            "Requirement already satisfied: pyyaml in /usr/local/lib/python3.7/dist-packages (from keras->keras-contrib==2.0.8) (3.13)\n",
            "Requirement already satisfied: h5py in /usr/local/lib/python3.7/dist-packages (from keras->keras-contrib==2.0.8) (2.10.0)\n",
            "Requirement already satisfied: scipy>=0.14 in /usr/local/lib/python3.7/dist-packages (from keras->keras-contrib==2.0.8) (1.4.1)\n",
            "Requirement already satisfied: six>=1.9.0 in /usr/local/lib/python3.7/dist-packages (from keras->keras-contrib==2.0.8) (1.15.0)\n",
            "Requirement already satisfied: keras-applications>=1.0.6 in /usr/local/lib/python3.7/dist-packages (from keras->keras-contrib==2.0.8) (1.0.8)\n",
            "Building wheels for collected packages: keras-contrib\n",
            "  Building wheel for keras-contrib (setup.py) ... \u001b[?25l\u001b[?25hdone\n",
            "  Created wheel for keras-contrib: filename=keras_contrib-2.0.8-cp37-none-any.whl size=101065 sha256=ea7ea9665a9e6f3f4d5420ae4c49268f29a901f6f5af8e00250f32cd3d6deb9f\n",
            "  Stored in directory: /tmp/pip-ephem-wheel-cache-c52vn610/wheels/11/27/c8/4ed56de7b55f4f61244e2dc6ef3cdbaff2692527a2ce6502ba\n",
            "Successfully built keras-contrib\n",
            "Installing collected packages: keras-contrib\n",
            "Successfully installed keras-contrib-2.0.8\n"
          ],
          "name": "stdout"
        }
      ]
    },
    {
      "cell_type": "code",
      "metadata": {
        "colab": {
          "base_uri": "https://localhost:8080/"
        },
        "id": "aY8mGv_CVd9_",
        "outputId": "28f007e5-9ad3-4b72-acbb-54a4a471f157"
      },
      "source": [
        "from keras.models import Model, Input\n",
        "from keras.layers import LSTM, Embedding, Dense, TimeDistributed, Dropout, Bidirectional\n",
        "import keras as k\n",
        "from keras_contrib.layers import CRF\n",
        "\n",
        "input = Input(shape=(140,))\n",
        "word_embedding_size = 150\n",
        "\n",
        "# Embedding Layer\n",
        "model = Embedding(input_dim=n_words, output_dim=word_embedding_size, input_length=140)(input)\n",
        "\n",
        "# BI-LSTM Layer\n",
        "model = Bidirectional(LSTM(units=word_embedding_size, \n",
        "                           return_sequences=True, \n",
        "                           dropout=0.5, \n",
        "                           recurrent_dropout=0.5, \n",
        "                           kernel_initializer=k.initializers.he_normal()))(model)\n",
        "# TimeDistributed Layer\n",
        "model = TimeDistributed(Dense(n_tags, activation=\"relu\"))(model)  \n",
        "\n",
        "# CRF Layer\n",
        "crf = CRF(n_tags)\n",
        "\n",
        "out = crf(model)  # output\n",
        "model = Model(input, out)"
      ],
      "execution_count": null,
      "outputs": [
        {
          "output_type": "stream",
          "text": [
            "WARNING:tensorflow:From /usr/local/lib/python3.7/dist-packages/tensorflow/python/framework/op_def_library.py:263: colocate_with (from tensorflow.python.framework.ops) is deprecated and will be removed in a future version.\n",
            "Instructions for updating:\n",
            "Colocations handled automatically by placer.\n",
            "WARNING:tensorflow:From /usr/local/lib/python3.7/dist-packages/keras/backend/tensorflow_backend.py:3445: calling dropout (from tensorflow.python.ops.nn_ops) with keep_prob is deprecated and will be removed in a future version.\n",
            "Instructions for updating:\n",
            "Please use `rate` instead of `keep_prob`. Rate should be set to `rate = 1 - keep_prob`.\n"
          ],
          "name": "stdout"
        }
      ]
    },
    {
      "cell_type": "code",
      "metadata": {
        "colab": {
          "base_uri": "https://localhost:8080/"
        },
        "id": "6MfU-f6wVhDc",
        "outputId": "3e62cd1d-39c2-4826-ec37-02a9a9a7343c"
      },
      "source": [
        "from keras.callbacks import ModelCheckpoint\n",
        "import matplotlib.pyplot as plt\n",
        "import numpy as np\n",
        "\n",
        "#Optimiser \n",
        "adam = k.optimizers.Adam(lr=0.0005, beta_1=0.9, beta_2=0.999)\n",
        "\n",
        "# Compile model\n",
        "model.compile(optimizer=adam, loss=crf.loss_function, metrics=[crf.accuracy, 'accuracy'])\n",
        "\n",
        "model.summary()\n",
        "\n"
      ],
      "execution_count": null,
      "outputs": [
        {
          "output_type": "stream",
          "text": [
            "/usr/local/lib/python3.7/dist-packages/keras_contrib/layers/crf.py:346: UserWarning: CRF.loss_function is deprecated and it might be removed in the future. Please use losses.crf_loss instead.\n",
            "  warnings.warn('CRF.loss_function is deprecated '\n",
            "/usr/local/lib/python3.7/dist-packages/keras_contrib/layers/crf.py:353: UserWarning: CRF.accuracy is deprecated and it might be removed in the future. Please use metrics.crf_accuracy\n",
            "  warnings.warn('CRF.accuracy is deprecated and it '\n"
          ],
          "name": "stderr"
        },
        {
          "output_type": "stream",
          "text": [
            "_________________________________________________________________\n",
            "Layer (type)                 Output Shape              Param #   \n",
            "=================================================================\n",
            "input_1 (InputLayer)         (None, 140)               0         \n",
            "_________________________________________________________________\n",
            "embedding_1 (Embedding)      (None, 140, 150)          4525950   \n",
            "_________________________________________________________________\n",
            "bidirectional_1 (Bidirection (None, 140, 300)          361200    \n",
            "_________________________________________________________________\n",
            "time_distributed_1 (TimeDist (None, 140, 18)           5418      \n",
            "_________________________________________________________________\n",
            "crf_1 (CRF)                  (None, 140, 18)           702       \n",
            "=================================================================\n",
            "Total params: 4,893,270\n",
            "Trainable params: 4,893,270\n",
            "Non-trainable params: 0\n",
            "_________________________________________________________________\n"
          ],
          "name": "stdout"
        }
      ]
    },
    {
      "cell_type": "code",
      "metadata": {
        "id": "JEiTM8P9XD_e"
      },
      "source": [
        "# Saving the best model only\n",
        "filepath=\"ner-bi-lstm-td-model-{val_acc:.2f}.hdf5\"\n",
        "checkpoint = ModelCheckpoint(filepath, monitor='val_acc', verbose=1, save_best_only=True, mode='max')\n",
        "callbacks_list = [checkpoint]\n"
      ],
      "execution_count": null,
      "outputs": []
    },
    {
      "cell_type": "code",
      "metadata": {
        "colab": {
          "base_uri": "https://localhost:8080/"
        },
        "id": "eekgXvVPXGjX",
        "outputId": "e6474d01-be81-4449-c800-976921dc5671"
      },
      "source": [
        "# Fit the best model\n",
        "history = model.fit(X_train, np.array(y_train), batch_size=256, epochs=20, validation_split=0.1, verbose=1, callbacks=callbacks_list)"
      ],
      "execution_count": null,
      "outputs": [
        {
          "output_type": "stream",
          "text": [
            "WARNING:tensorflow:From /usr/local/lib/python3.7/dist-packages/tensorflow/python/ops/math_ops.py:3066: to_int32 (from tensorflow.python.ops.math_ops) is deprecated and will be removed in a future version.\n",
            "Instructions for updating:\n",
            "Use tf.cast instead.\n",
            "Train on 25326 samples, validate on 2815 samples\n",
            "Epoch 1/20\n",
            "25326/25326 [==============================] - 414s 16ms/step - loss: 0.5380 - crf_viterbi_accuracy: 0.9662 - acc: 8.5457e-05 - val_loss: 0.2015 - val_crf_viterbi_accuracy: 0.9668 - val_acc: 0.9668\n",
            "\n",
            "Epoch 00001: val_acc improved from -inf to 0.96675, saving model to ner-bi-lstm-td-model-0.97.hdf5\n",
            "Epoch 2/20\n",
            "25326/25326 [==============================] - 411s 16ms/step - loss: 0.1810 - crf_viterbi_accuracy: 0.9673 - acc: 8.5457e-05 - val_loss: 0.1610 - val_crf_viterbi_accuracy: 0.9668 - val_acc: 0.9668\n",
            "\n",
            "Epoch 00002: val_acc did not improve from 0.96675\n",
            "Epoch 3/20\n",
            "25326/25326 [==============================] - 412s 16ms/step - loss: 0.1266 - crf_viterbi_accuracy: 0.9685 - acc: 8.5457e-05 - val_loss: 0.0988 - val_crf_viterbi_accuracy: 0.9715 - val_acc: 0.9715\n",
            "\n",
            "Epoch 00003: val_acc improved from 0.96675 to 0.97152, saving model to ner-bi-lstm-td-model-0.97.hdf5\n",
            "Epoch 4/20\n",
            "25326/25326 [==============================] - 411s 16ms/step - loss: 0.0847 - crf_viterbi_accuracy: 0.9735 - acc: 8.5457e-05 - val_loss: 0.0787 - val_crf_viterbi_accuracy: 0.9748 - val_acc: 0.9748\n",
            "\n",
            "Epoch 00004: val_acc improved from 0.97152 to 0.97483, saving model to ner-bi-lstm-td-model-0.97.hdf5\n",
            "Epoch 5/20\n",
            "25326/25326 [==============================] - 411s 16ms/step - loss: 0.0693 - crf_viterbi_accuracy: 0.9776 - acc: 8.5457e-05 - val_loss: 0.0686 - val_crf_viterbi_accuracy: 0.9792 - val_acc: 0.9792\n",
            "\n",
            "Epoch 00005: val_acc improved from 0.97483 to 0.97919, saving model to ner-bi-lstm-td-model-0.98.hdf5\n",
            "Epoch 6/20\n",
            "25326/25326 [==============================] - 411s 16ms/step - loss: 0.0585 - crf_viterbi_accuracy: 0.9821 - acc: 8.5457e-05 - val_loss: 0.0594 - val_crf_viterbi_accuracy: 0.9829 - val_acc: 0.9829\n",
            "\n",
            "Epoch 00006: val_acc improved from 0.97919 to 0.98291, saving model to ner-bi-lstm-td-model-0.98.hdf5\n",
            "Epoch 7/20\n",
            "25326/25326 [==============================] - 412s 16ms/step - loss: 0.0486 - crf_viterbi_accuracy: 0.9854 - acc: 8.5457e-05 - val_loss: 0.0502 - val_crf_viterbi_accuracy: 0.9860 - val_acc: 0.9860\n",
            "\n",
            "Epoch 00007: val_acc improved from 0.98291 to 0.98596, saving model to ner-bi-lstm-td-model-0.99.hdf5\n",
            "Epoch 8/20\n",
            "25326/25326 [==============================] - 413s 16ms/step - loss: 0.0386 - crf_viterbi_accuracy: 0.9887 - acc: 8.5457e-05 - val_loss: 0.0419 - val_crf_viterbi_accuracy: 0.9882 - val_acc: 0.9882\n",
            "\n",
            "Epoch 00008: val_acc improved from 0.98596 to 0.98822, saving model to ner-bi-lstm-td-model-0.99.hdf5\n",
            "Epoch 9/20\n",
            "25326/25326 [==============================] - 412s 16ms/step - loss: 0.0304 - crf_viterbi_accuracy: 0.9907 - acc: 8.5457e-05 - val_loss: 0.0362 - val_crf_viterbi_accuracy: 0.9895 - val_acc: 0.9895\n",
            "\n",
            "Epoch 00009: val_acc improved from 0.98822 to 0.98949, saving model to ner-bi-lstm-td-model-0.99.hdf5\n",
            "Epoch 10/20\n",
            "25326/25326 [==============================] - 412s 16ms/step - loss: 0.0245 - crf_viterbi_accuracy: 0.9920 - acc: 8.5457e-05 - val_loss: 0.0328 - val_crf_viterbi_accuracy: 0.9901 - val_acc: 0.9901\n",
            "\n",
            "Epoch 00010: val_acc improved from 0.98949 to 0.99009, saving model to ner-bi-lstm-td-model-0.99.hdf5\n",
            "Epoch 11/20\n",
            "25326/25326 [==============================] - 410s 16ms/step - loss: 0.0205 - crf_viterbi_accuracy: 0.9928 - acc: 8.5457e-05 - val_loss: 0.0300 - val_crf_viterbi_accuracy: 0.9906 - val_acc: 0.9906\n",
            "\n",
            "Epoch 00011: val_acc improved from 0.99009 to 0.99056, saving model to ner-bi-lstm-td-model-0.99.hdf5\n",
            "Epoch 12/20\n",
            "25326/25326 [==============================] - 411s 16ms/step - loss: 0.0175 - crf_viterbi_accuracy: 0.9933 - acc: 8.5457e-05 - val_loss: 0.0284 - val_crf_viterbi_accuracy: 0.9909 - val_acc: 0.9909\n",
            "\n",
            "Epoch 00012: val_acc improved from 0.99056 to 0.99093, saving model to ner-bi-lstm-td-model-0.99.hdf5\n",
            "Epoch 13/20\n",
            "25326/25326 [==============================] - 411s 16ms/step - loss: 0.0151 - crf_viterbi_accuracy: 0.9937 - acc: 8.5457e-05 - val_loss: 0.0272 - val_crf_viterbi_accuracy: 0.9911 - val_acc: 0.9911\n",
            "\n",
            "Epoch 00013: val_acc improved from 0.99093 to 0.99112, saving model to ner-bi-lstm-td-model-0.99.hdf5\n",
            "Epoch 14/20\n",
            "25326/25326 [==============================] - 411s 16ms/step - loss: 0.0131 - crf_viterbi_accuracy: 0.9941 - acc: 8.5457e-05 - val_loss: 0.0260 - val_crf_viterbi_accuracy: 0.9914 - val_acc: 0.9914\n",
            "\n",
            "Epoch 00014: val_acc improved from 0.99112 to 0.99139, saving model to ner-bi-lstm-td-model-0.99.hdf5\n",
            "Epoch 15/20\n",
            "25326/25326 [==============================] - 411s 16ms/step - loss: 0.0114 - crf_viterbi_accuracy: 0.9945 - acc: 8.5457e-05 - val_loss: 0.0259 - val_crf_viterbi_accuracy: 0.9915 - val_acc: 0.9915\n",
            "\n",
            "Epoch 00015: val_acc improved from 0.99139 to 0.99153, saving model to ner-bi-lstm-td-model-0.99.hdf5\n",
            "Epoch 16/20\n",
            "25326/25326 [==============================] - 410s 16ms/step - loss: 0.0099 - crf_viterbi_accuracy: 0.9947 - acc: 8.5457e-05 - val_loss: 0.0251 - val_crf_viterbi_accuracy: 0.9916 - val_acc: 0.9916\n",
            "\n",
            "Epoch 00016: val_acc improved from 0.99153 to 0.99157, saving model to ner-bi-lstm-td-model-0.99.hdf5\n",
            "Epoch 17/20\n",
            "25326/25326 [==============================] - 410s 16ms/step - loss: 0.0087 - crf_viterbi_accuracy: 0.9949 - acc: 8.5457e-05 - val_loss: 0.0240 - val_crf_viterbi_accuracy: 0.9917 - val_acc: 0.9917\n",
            "\n",
            "Epoch 00017: val_acc improved from 0.99157 to 0.99170, saving model to ner-bi-lstm-td-model-0.99.hdf5\n",
            "Epoch 18/20\n",
            "25326/25326 [==============================] - 410s 16ms/step - loss: 0.0074 - crf_viterbi_accuracy: 0.9952 - acc: 8.5457e-05 - val_loss: 0.0238 - val_crf_viterbi_accuracy: 0.9918 - val_acc: 0.9918\n",
            "\n",
            "Epoch 00018: val_acc improved from 0.99170 to 0.99177, saving model to ner-bi-lstm-td-model-0.99.hdf5\n",
            "Epoch 19/20\n",
            "25326/25326 [==============================] - 410s 16ms/step - loss: 0.0064 - crf_viterbi_accuracy: 0.9953 - acc: 8.5457e-05 - val_loss: 0.0227 - val_crf_viterbi_accuracy: 0.9918 - val_acc: 0.9918\n",
            "\n",
            "Epoch 00019: val_acc improved from 0.99177 to 0.99179, saving model to ner-bi-lstm-td-model-0.99.hdf5\n",
            "Epoch 20/20\n",
            "25326/25326 [==============================] - 411s 16ms/step - loss: 0.0053 - crf_viterbi_accuracy: 0.9955 - acc: 8.5457e-05 - val_loss: 0.0229 - val_crf_viterbi_accuracy: 0.9918 - val_acc: 0.9918\n",
            "\n",
            "Epoch 00020: val_acc improved from 0.99179 to 0.99184, saving model to ner-bi-lstm-td-model-0.99.hdf5\n"
          ],
          "name": "stdout"
        }
      ]
    },
    {
      "cell_type": "code",
      "metadata": {
        "colab": {
          "base_uri": "https://localhost:8080/",
          "height": 337
        },
        "id": "022w2PwaqmNJ",
        "outputId": "8d37b0ae-4264-4cb0-e9b7-175f3fb7977e"
      },
      "source": [
        "# Plot the graph \n",
        "plt.style.use('ggplot')\n",
        "\n",
        "def plot_history(history):\n",
        "    accuracy = history.history['crf_viterbi_accuracy']\n",
        "    val_accuracy = history.history['val_acc']\n",
        "    loss = history.history['loss']\n",
        "    val_loss = history.history['val_loss']\n",
        "    x = range(1, len(accuracy) + 1)\n",
        "\n",
        "    plt.figure(figsize=(12, 5))\n",
        "    plt.subplot(1, 2, 1)\n",
        "    plt.plot(x, accuracy, 'b', label='Training acc')\n",
        "    plt.plot(x, val_accuracy, 'r', label='Validation acc')\n",
        "    plt.title('Training and validation accuracy')\n",
        "    plt.legend()\n",
        "    plt.subplot(1, 2, 2)\n",
        "    plt.plot(x, loss, 'b', label='Training loss')\n",
        "    plt.plot(x, val_loss, 'r', label='Validation loss')\n",
        "    plt.title('Training and validation loss')\n",
        "    plt.legend()\n",
        "\n",
        "plot_history(history)"
      ],
      "execution_count": null,
      "outputs": [
        {
          "output_type": "display_data",
          "data": {
            "image/png": "[encoded data removed]",
            "text/plain": [
              "<Figure size 864x360 with 2 Axes>"
            ]
          },
          "metadata": {
            "tags": []
          }
        }
      ]
    },
    {
      "cell_type": "code",
      "metadata": {
        "colab": {
          "base_uri": "https://localhost:8080/"
        },
        "id": "EqcQHrIaqqfR",
        "outputId": "f9fd24de-c458-4e56-a665-deef6b40e446"
      },
      "source": [
        "def pred2label(pred):\n",
        "    out = []\n",
        "    for pred_i in pred:\n",
        "        out_i = []\n",
        "        for p in pred_i:\n",
        "            p_i = np.argmax(p)\n",
        "            out_i.append(idx2tag[p_i])\n",
        "        out.append(out_i)\n",
        "    return out\n",
        "test_pred = model.predict(X_test, verbose=1)   \n",
        "pred_labels = pred2label(test_pred)\n",
        "test_labels = pred2label(y_test)"
      ],
      "execution_count": null,
      "outputs": [
        {
          "output_type": "stream",
          "text": [
            "7036/7036 [==============================] - 43s 6ms/step\n"
          ],
          "name": "stdout"
        }
      ]
    },
    {
      "cell_type": "code",
      "metadata": {
        "colab": {
          "base_uri": "https://localhost:8080/"
        },
        "id": "_e4V7JCmqqiS",
        "outputId": "86274126-e055-4c72-aa9a-293b28692cc4"
      },
      "source": [
        "! pip install seqeval"
      ],
      "execution_count": null,
      "outputs": [
        {
          "output_type": "stream",
          "text": [
            "Collecting seqeval\n",
            "\u001b[?25l  Downloading https://files.pythonhosted.org/packages/9d/2d/233c79d5b4e5ab1dbf111242299153f3caddddbb691219f363ad55ce783d/seqeval-1.2.2.tar.gz (43kB)\n",
            "\r\u001b[K     |███████▌                        | 10kB 18.9MB/s eta 0:00:01\r\u001b[K     |███████████████                 | 20kB 17.5MB/s eta 0:00:01\r\u001b[K     |██████████████████████▌         | 30kB 11.1MB/s eta 0:00:01\r\u001b[K     |██████████████████████████████  | 40kB 9.2MB/s eta 0:00:01\r\u001b[K     |████████████████████████████████| 51kB 4.4MB/s \n",
            "\u001b[?25hRequirement already satisfied: numpy>=1.14.0 in /usr/local/lib/python3.7/dist-packages (from seqeval) (1.19.5)\n",
            "Requirement already satisfied: scikit-learn>=0.21.3 in /usr/local/lib/python3.7/dist-packages (from seqeval) (0.22.2.post1)\n",
            "Requirement already satisfied: joblib>=0.11 in /usr/local/lib/python3.7/dist-packages (from scikit-learn>=0.21.3->seqeval) (1.0.1)\n",
            "Requirement already satisfied: scipy>=0.17.0 in /usr/local/lib/python3.7/dist-packages (from scikit-learn>=0.21.3->seqeval) (1.4.1)\n",
            "Building wheels for collected packages: seqeval\n",
            "  Building wheel for seqeval (setup.py) ... \u001b[?25l\u001b[?25hdone\n",
            "  Created wheel for seqeval: filename=seqeval-1.2.2-cp37-none-any.whl size=16172 sha256=7d02962bdf50a6ab84d2980fa8862a504a8f387be73bed8bebb47569ed80dcc7\n",
            "  Stored in directory: /root/.cache/pip/wheels/52/df/1b/45d75646c37428f7e626214704a0e35bd3cfc32eda37e59e5f\n",
            "Successfully built seqeval\n",
            "Installing collected packages: seqeval\n",
            "Successfully installed seqeval-1.2.2\n"
          ],
          "name": "stdout"
        }
      ]
    },
    {
      "cell_type": "code",
      "metadata": {
        "colab": {
          "base_uri": "https://localhost:8080/"
        },
        "id": "tnIQzlNTqqk1",
        "outputId": "af01d9b7-9c4a-4d1e-fc1e-e772b46ad6ef"
      },
      "source": [
        "from seqeval.metrics import precision_score, recall_score, f1_score, classification_report\n",
        "print(\"F1-score: {:.1%}\".format(f1_score(test_labels, pred_labels)))"
      ],
      "execution_count": null,
      "outputs": [
        {
          "output_type": "stream",
          "text": [
            "F1-score: 78.7%\n"
          ],
          "name": "stdout"
        }
      ]
    },
    {
      "cell_type": "code",
      "metadata": {
        "colab": {
          "base_uri": "https://localhost:8080/"
        },
        "id": "Hbk0d7joqqoB",
        "outputId": "88d9d760-a402-4e32-f0d0-ab8171adf564"
      },
      "source": [
        "! pip install sklearn_crfsuite"
      ],
      "execution_count": null,
      "outputs": [
        {
          "output_type": "stream",
          "text": [
            "Collecting sklearn_crfsuite\n",
            "  Downloading https://files.pythonhosted.org/packages/25/74/5b7befa513482e6dee1f3dd68171a6c9dfc14c0eaa00f885ffeba54fe9b0/sklearn_crfsuite-0.3.6-py2.py3-none-any.whl\n",
            "Requirement already satisfied: tabulate in /usr/local/lib/python3.7/dist-packages (from sklearn_crfsuite) (0.8.9)\n",
            "Requirement already satisfied: six in /usr/local/lib/python3.7/dist-packages (from sklearn_crfsuite) (1.15.0)\n",
            "Requirement already satisfied: tqdm>=2.0 in /usr/local/lib/python3.7/dist-packages (from sklearn_crfsuite) (4.41.1)\n",
            "Collecting python-crfsuite>=0.8.3\n",
            "\u001b[?25l  Downloading https://files.pythonhosted.org/packages/79/47/58f16c46506139f17de4630dbcfb877ce41a6355a1bbf3c443edb9708429/python_crfsuite-0.9.7-cp37-cp37m-manylinux1_x86_64.whl (743kB)\n",
            "\u001b[K     |████████████████████████████████| 747kB 7.5MB/s \n",
            "\u001b[?25hInstalling collected packages: python-crfsuite, sklearn-crfsuite\n",
            "Successfully installed python-crfsuite-0.9.7 sklearn-crfsuite-0.3.6\n"
          ],
          "name": "stdout"
        }
      ]
    },
    {
      "cell_type": "code",
      "metadata": {
        "colab": {
          "base_uri": "https://localhost:8080/"
        },
        "id": "sSJSxGADqqq4",
        "outputId": "3cf40ff8-af99-4630-998a-500ce4dabde6"
      },
      "source": [
        "from  sklearn_crfsuite.metrics import flat_classification_report  \n",
        "report = flat_classification_report(y_pred=pred_labels, y_true=test_labels)\n",
        "print(report)"
      ],
      "execution_count": null,
      "outputs": [
        {
          "output_type": "stream",
          "text": [
            "/usr/local/lib/python3.7/dist-packages/sklearn/metrics/_classification.py:1272: UndefinedMetricWarning: Precision and F-score are ill-defined and being set to 0.0 in labels with no predicted samples. Use `zero_division` parameter to control this behavior.\n",
            "  _warn_prf(average, modifier, msg_start, len(result))\n"
          ],
          "name": "stderr"
        },
        {
          "output_type": "stream",
          "text": [
            "              precision    recall  f1-score   support\n",
            "\n",
            "       B-art       0.00      0.00      0.00        92\n",
            "       B-eve       0.64      0.21      0.31        67\n",
            "       B-geo       0.83      0.87      0.85      7167\n",
            "       B-gpe       0.94      0.92      0.93      3202\n",
            "       B-nat       0.00      0.00      0.00        59\n",
            "       B-org       0.79      0.67      0.72      4129\n",
            "       B-per       0.83      0.76      0.79      3490\n",
            "       B-tim       0.91      0.86      0.88      3982\n",
            "       I-art       0.00      0.00      0.00        61\n",
            "       I-eve       0.00      0.00      0.00        52\n",
            "       I-geo       0.77      0.76      0.77      1362\n",
            "       I-gpe       0.00      0.00      0.00        52\n",
            "       I-nat       0.00      0.00      0.00        11\n",
            "       I-org       0.79      0.70      0.74      3252\n",
            "       I-per       0.85      0.77      0.81      3539\n",
            "       I-tim       0.82      0.68      0.74      1210\n",
            "           O       1.00      1.00      1.00    953313\n",
            "\n",
            "    accuracy                           0.99    985040\n",
            "   macro avg       0.54      0.48      0.50    985040\n",
            "weighted avg       0.99      0.99      0.99    985040\n",
            "\n"
          ],
          "name": "stdout"
        }
      ]
    },
    {
      "cell_type": "code",
      "metadata": {
        "colab": {
          "base_uri": "https://localhost:8080/"
        },
        "id": "tgv0FQG7A-ZR",
        "outputId": "edf73c8d-84bc-46f5-a6bf-70dccee22610"
      },
      "source": [
        "test_pred_one = model.predict(X_test, verbose=1)   \n",
        "pred_labels_one = pred2label(test_pred_one)\n",
        "test_labels_one = pred2label(y_test)"
      ],
      "execution_count": null,
      "outputs": [
        {
          "output_type": "stream",
          "text": [
            "7036/7036 [==============================] - 43s 6ms/step\n"
          ],
          "name": "stdout"
        }
      ]
    },
    {
      "cell_type": "code",
      "metadata": {
        "colab": {
          "base_uri": "https://localhost:8080/"
        },
        "id": "GGHaJRTBBc00",
        "outputId": "a2b6144d-b73c-4ec6-c01c-e1169bc9d288"
      },
      "source": [
        "len(pred_labels_one)"
      ],
      "execution_count": null,
      "outputs": [
        {
          "output_type": "execute_result",
          "data": {
            "text/plain": [
              "7036"
            ]
          },
          "metadata": {
            "tags": []
          },
          "execution_count": 40
        }
      ]
    },
    {
      "cell_type": "code",
      "metadata": {
        "id": "9SvzKH_1BdiC"
      },
      "source": [
        "test_labels_one"
      ],
      "execution_count": null,
      "outputs": []
    },
    {
      "cell_type": "code",
      "metadata": {
        "colab": {
          "base_uri": "https://localhost:8080/"
        },
        "id": "rg2w06f1BGtK",
        "outputId": "355f8b24-5101-4319-f318-e9ccbaa63760"
      },
      "source": [
        "len(X_test)"
      ],
      "execution_count": null,
      "outputs": [
        {
          "output_type": "execute_result",
          "data": {
            "text/plain": [
              "7036"
            ]
          },
          "metadata": {
            "tags": []
          },
          "execution_count": 32
        }
      ]
    },
    {
      "cell_type": "code",
      "metadata": {
        "colab": {
          "base_uri": "https://localhost:8080/"
        },
        "id": "Bbxb0DE3BNCd",
        "outputId": "3b88c31d-eee0-4961-9873-29b9b178a5a7"
      },
      "source": [
        "len(test_labels)"
      ],
      "execution_count": null,
      "outputs": [
        {
          "output_type": "execute_result",
          "data": {
            "text/plain": [
              "7036"
            ]
          },
          "metadata": {
            "tags": []
          },
          "execution_count": 33
        }
      ]
    },
    {
      "cell_type": "code",
      "metadata": {
        "colab": {
          "base_uri": "https://localhost:8080/"
        },
        "id": "gapz9QYiBQTp",
        "outputId": "11754be6-d1fa-4010-c471-2407b6ec3ef9"
      },
      "source": [
        "len(pred_labels)"
      ],
      "execution_count": null,
      "outputs": [
        {
          "output_type": "execute_result",
          "data": {
            "text/plain": [
              "7036"
            ]
          },
          "metadata": {
            "tags": []
          },
          "execution_count": 34
        }
      ]
    },
    {
      "cell_type": "code",
      "metadata": {
        "id": "u_Vy19ZcDGcm"
      },
      "source": [
        "labels=['O',\n",
        " 'B-art',\n",
        " 'I-art',\n",
        " 'B-eve',\n",
        " 'I-eve',\n",
        " 'B-geo',\n",
        " 'I-geo',\n",
        " 'B-gpe',\n",
        " 'I-gpe',\n",
        " 'B-nat',\n",
        " 'I-nat',\n",
        " 'B-org',\n",
        " 'I-org',\n",
        " 'B-per',\n",
        " 'I-per',\n",
        " 'B-tim',\n",
        " 'I-tim']"
      ],
      "execution_count": null,
      "outputs": []
    },
    {
      "cell_type": "code",
      "metadata": {
        "colab": {
          "base_uri": "https://localhost:8080/"
        },
        "id": "Dd9BGnR-A4er",
        "outputId": "35bb7583-cc1f-478d-f45e-5d13ba29067d"
      },
      "source": [
        "from  sklearn_crfsuite.metrics import flat_classification_report  \n",
        "report = flat_classification_report(test_labels_one,pred_labels_one)\n",
        "print(report)"
      ],
      "execution_count": null,
      "outputs": [
        {
          "output_type": "stream",
          "text": [
            "/usr/local/lib/python3.7/dist-packages/sklearn/metrics/_classification.py:1272: UndefinedMetricWarning: Precision and F-score are ill-defined and being set to 0.0 in labels with no predicted samples. Use `zero_division` parameter to control this behavior.\n",
            "  _warn_prf(average, modifier, msg_start, len(result))\n"
          ],
          "name": "stderr"
        },
        {
          "output_type": "stream",
          "text": [
            "              precision    recall  f1-score   support\n",
            "\n",
            "       B-art       0.00      0.00      0.00        92\n",
            "       B-eve       0.64      0.21      0.31        67\n",
            "       B-geo       0.83      0.87      0.85      7167\n",
            "       B-gpe       0.94      0.92      0.93      3202\n",
            "       B-nat       0.00      0.00      0.00        59\n",
            "       B-org       0.79      0.67      0.72      4129\n",
            "       B-per       0.83      0.76      0.79      3490\n",
            "       B-tim       0.91      0.86      0.88      3982\n",
            "       I-art       0.00      0.00      0.00        61\n",
            "       I-eve       0.00      0.00      0.00        52\n",
            "       I-geo       0.77      0.76      0.77      1362\n",
            "       I-gpe       0.00      0.00      0.00        52\n",
            "       I-nat       0.00      0.00      0.00        11\n",
            "       I-org       0.79      0.70      0.74      3252\n",
            "       I-per       0.85      0.77      0.81      3539\n",
            "       I-tim       0.82      0.68      0.74      1210\n",
            "           O       1.00      1.00      1.00    953313\n",
            "\n",
            "    accuracy                           0.99    985040\n",
            "   macro avg       0.54      0.48      0.50    985040\n",
            "weighted avg       0.99      0.99      0.99    985040\n",
            "\n"
          ],
          "name": "stdout"
        }
      ]
    },
    {
      "cell_type": "code",
      "metadata": {
        "id": "hMDrdGHiq9vN"
      },
      "source": [
        "TP = {}\n",
        "TN = {}\n",
        "FP = {}\n",
        "FN = {}\n",
        "for tag in tag2idx.keys():\n",
        "    TP[tag] = 0\n",
        "    TN[tag] = 0    \n",
        "    FP[tag] = 0    \n",
        "    FN[tag] = 0    \n",
        "\n",
        "def accumulate_score_by_tag(gt, pred):\n",
        "    \"\"\"\n",
        "    For each tag keep stats\n",
        "    \"\"\"\n",
        "    if gt == pred:\n",
        "        TP[gt] += 1\n",
        "    elif gt != 'O' and pred == 'O':\n",
        "        FN[gt] +=1\n",
        "    elif gt == 'O' and pred != 'O':\n",
        "        FP[gt] += 1\n",
        "    else:\n",
        "        TN[gt] += 1"
      ],
      "execution_count": null,
      "outputs": []
    },
    {
      "cell_type": "code",
      "metadata": {
        "id": "6NeVeI2wq9yh"
      },
      "source": [
        "for i, sentence in enumerate(X_test):\n",
        "    y_hat = np.argmax(test_pred[0], axis=-1)\n",
        "    gt = np.argmax(y_test[0], axis=-1)\n",
        "    for idx, (w,pred) in enumerate(zip(sentence,y_hat)):\n",
        "        accumulate_score_by_tag(idx2tag[gt[idx]],tags[pred])"
      ],
      "execution_count": null,
      "outputs": []
    },
    {
      "cell_type": "code",
      "metadata": {
        "colab": {
          "base_uri": "https://localhost:8080/"
        },
        "id": "XapfeRKpq92t",
        "outputId": "b7238763-2af6-46be-9075-4019b1b466d1"
      },
      "source": [
        "for tag in tag2idx.keys():\n",
        "    print(f'tag:{tag}')    \n",
        "    print('\\t TN:{:10}\\tFP:{:10}'.format(TN[tag],FP[tag]))\n",
        "    print('\\t FN:{:10}\\tTP:{:10}'.format(FN[tag],TP[tag]))  "
      ],
      "execution_count": null,
      "outputs": [
        {
          "output_type": "stream",
          "text": [
            "tag:unk\n",
            "\t TN:         0\tFP:         0\n",
            "\t FN:         0\tTP:         0\n",
            "tag:B-art\n",
            "\t TN:         0\tFP:         0\n",
            "\t FN:         0\tTP:         0\n",
            "tag:B-geo\n",
            "\t TN:         0\tFP:         0\n",
            "\t FN:         0\tTP:      7036\n",
            "tag:I-org\n",
            "\t TN:         0\tFP:         0\n",
            "\t FN:         0\tTP:     21108\n",
            "tag:I-per\n",
            "\t TN:         0\tFP:         0\n",
            "\t FN:         0\tTP:      7036\n",
            "tag:B-nat\n",
            "\t TN:         0\tFP:         0\n",
            "\t FN:         0\tTP:         0\n",
            "tag:O\n",
            "\t TN:         0\tFP:         0\n",
            "\t FN:         0\tTP:    935788\n",
            "tag:I-geo\n",
            "\t TN:         0\tFP:         0\n",
            "\t FN:         0\tTP:         0\n",
            "tag:B-gpe\n",
            "\t TN:         0\tFP:         0\n",
            "\t FN:         0\tTP:         0\n",
            "tag:I-gpe\n",
            "\t TN:         0\tFP:         0\n",
            "\t FN:         0\tTP:         0\n",
            "tag:I-tim\n",
            "\t TN:         0\tFP:         0\n",
            "\t FN:         0\tTP:         0\n",
            "tag:I-eve\n",
            "\t TN:         0\tFP:         0\n",
            "\t FN:         0\tTP:         0\n",
            "tag:B-eve\n",
            "\t TN:         0\tFP:         0\n",
            "\t FN:         0\tTP:         0\n",
            "tag:I-nat\n",
            "\t TN:         0\tFP:         0\n",
            "\t FN:         0\tTP:         0\n",
            "tag:B-per\n",
            "\t TN:         0\tFP:         0\n",
            "\t FN:         0\tTP:      7036\n",
            "tag:I-art\n",
            "\t TN:         0\tFP:         0\n",
            "\t FN:         0\tTP:         0\n",
            "tag:B-tim\n",
            "\t TN:         0\tFP:         0\n",
            "\t FN:         0\tTP:         0\n",
            "tag:B-org\n",
            "\t TN:         0\tFP:         0\n",
            "\t FN:         0\tTP:      7036\n"
          ],
          "name": "stdout"
        }
      ]
    },
    {
      "cell_type": "code",
      "metadata": {
        "id": "OZbqsjvRq95P"
      },
      "source": [
        "test_sentence = [\"Hawking\", \"was\", \"a\", \"Fellow\", \"of\", \"the\", \"Royal\", \"Society\", \",\", \"a\", \"lifetime\", \"member\",\n",
        "                 \"of\", \"the\", \"Pontifical\", \"Academy\", \"of\", \"Sciences\", \",\", \"and\", \"a\", \"recipient\", \"of\",\n",
        "                 \"the\", \"Presidential\", \"Medal\", \"of\", \"Freedom\", \",\", \"the\", \"highest\", \"civilian\", \"award\",\n",
        "                 \"in\", \"the\", \"United\", \"States\", \".\"]"
      ],
      "execution_count": null,
      "outputs": []
    },
    {
      "cell_type": "markdown",
      "metadata": {
        "id": "1CaURODxIEGk"
      },
      "source": [
        "Need to look into this"
      ]
    },
    {
      "cell_type": "code",
      "metadata": {
        "id": "xGWXS3LUsm8a"
      },
      "source": [
        "x_test_sent = pad_sequences(sequences=[[word2idx.get(w, 0) for w in test_sentence]],\n",
        "                            padding=\"post\", value=0, maxlen=maxlen)"
      ],
      "execution_count": null,
      "outputs": []
    },
    {
      "cell_type": "code",
      "metadata": {
        "colab": {
          "base_uri": "https://localhost:8080/"
        },
        "id": "dA4FPFISsnAG",
        "outputId": "ec87ee98-030f-4aaf-849a-dc4343a750df"
      },
      "source": [
        "tags"
      ],
      "execution_count": null,
      "outputs": [
        {
          "output_type": "execute_result",
          "data": {
            "text/plain": [
              "['B-art',\n",
              " 'unk',\n",
              " 'O',\n",
              " 'I-eve',\n",
              " 'I-geo',\n",
              " 'I-org',\n",
              " 'B-tim',\n",
              " 'I-nat',\n",
              " 'I-gpe',\n",
              " 'B-nat',\n",
              " 'B-geo',\n",
              " 'I-art',\n",
              " 'B-eve',\n",
              " 'B-gpe',\n",
              " 'B-org',\n",
              " 'I-tim',\n",
              " 'B-per',\n",
              " 'I-per']"
            ]
          },
          "metadata": {
            "tags": []
          },
          "execution_count": 58
        }
      ]
    },
    {
      "cell_type": "code",
      "metadata": {
        "id": "hL1_r-h-mjbm"
      },
      "source": [
        "i = np.random.randint(0,X_test.shape[0])\n",
        "x_test_sent=pad_sequences(sequences=[[word2idx.get(w, 0) for w in sentences[i]]],\n",
        "                            padding=\"post\", value=0, maxlen=maxlen)"
      ],
      "execution_count": null,
      "outputs": []
    },
    {
      "cell_type": "code",
      "metadata": {
        "id": "K97dlg6aH2wv"
      },
      "source": [
        "\n",
        "p = model.predict(np.array([x_test_sent[0]]))"
      ],
      "execution_count": null,
      "outputs": []
    },
    {
      "cell_type": "code",
      "metadata": {
        "id": "OLXsG_ojHViM"
      },
      "source": [
        "p = np.argmax(p, axis=-1)\n",
        "true = np.argmax(y_test[0], -1)"
      ],
      "execution_count": null,
      "outputs": []
    },
    {
      "cell_type": "code",
      "metadata": {
        "colab": {
          "base_uri": "https://localhost:8080/"
        },
        "id": "H-JVHC5NG3dB",
        "outputId": "37b34a57-ff8e-4d08-c4a6-a9de17af60dc"
      },
      "source": [
        "true"
      ],
      "execution_count": null,
      "outputs": [
        {
          "output_type": "execute_result",
          "data": {
            "text/plain": [
              "array([ 2,  2,  2,  2,  2,  2,  2,  2,  2,  2, 10,  2,  2,  2,  2,  2,  2,\n",
              "        2,  2,  2,  2,  2,  2,  2,  2,  2,  2,  2,  2,  2,  2,  2,  2,  2,\n",
              "        2,  2,  2,  2,  2, 10,  2,  2,  2,  2,  2,  2,  2,  2,  2,  2,  2,\n",
              "        2,  2,  2,  2,  2,  2,  2,  2,  2,  2,  2,  2,  2,  2,  2,  2,  2,\n",
              "        2,  2,  2,  2,  2,  2,  2,  2,  2,  2,  2,  2,  2,  2,  2,  2,  2,\n",
              "        2,  2,  2,  2,  2,  2,  2,  2,  2,  2,  2,  2,  2,  2,  2,  2,  2,\n",
              "        2,  2,  2,  2,  2,  2,  2,  2,  2,  2,  2,  2,  2,  2,  2,  2,  2,\n",
              "        2,  2,  2,  2,  2,  2,  2,  2,  2,  2,  2,  2,  2,  2,  2,  2,  2,\n",
              "        2,  2,  2,  2])"
            ]
          },
          "metadata": {
            "tags": []
          },
          "execution_count": 61
        }
      ]
    },
    {
      "cell_type": "code",
      "metadata": {
        "id": "fuvg55ixG1QS"
      },
      "source": [
        "\n",
        "print(\"{:15}||{:5}||{}\".format(\"Word\", \"True\", \"Pred\"))\n",
        "print(50 * \"=\")\n",
        "for w, pred in zip(test_sentence, p[0]):\n",
        "    print(\"{:15}: {:5}\".format(w, tags[pred]))\n",
        "\n",
        "\n",
        "print(\"{:15}||{:5}||{}\".format(\"Word\", \"True\", \"Pred\"))\n",
        "print(30 * \"=\")\n",
        "for w, t, pred in zip(X_te[i], true, p[0]):\n",
        "    if w != 0:\n",
        "        print(\"{:15}: {:5} {}\".format(words[w-2], idx2tag[t], idx2tag[pred]))"
      ],
      "execution_count": null,
      "outputs": []
    },
    {
      "cell_type": "code",
      "metadata": {
        "colab": {
          "base_uri": "https://localhost:8080/",
          "height": 852
        },
        "id": "wWzXnylMfAYj",
        "outputId": "033a0439-836c-4955-804d-10dc4d3b6577"
      },
      "source": [
        "!pip install tensorflow==1.13.1"
      ],
      "execution_count": null,
      "outputs": [
        {
          "output_type": "stream",
          "text": [
            "Collecting tensorflow==1.13.1\n",
            "\u001b[?25l  Downloading https://files.pythonhosted.org/packages/d4/29/6b4f1e02417c3a1ccc85380f093556ffd0b35dc354078074c5195c8447f2/tensorflow-1.13.1-cp37-cp37m-manylinux1_x86_64.whl (92.6MB)\n",
            "\u001b[K     |████████████████████████████████| 92.6MB 66kB/s \n",
            "\u001b[?25hRequirement already satisfied: astor>=0.6.0 in /usr/local/lib/python3.7/dist-packages (from tensorflow==1.13.1) (0.8.1)\n",
            "Requirement already satisfied: wheel>=0.26 in /usr/local/lib/python3.7/dist-packages (from tensorflow==1.13.1) (0.36.2)\n",
            "Requirement already satisfied: keras-preprocessing>=1.0.5 in /usr/local/lib/python3.7/dist-packages (from tensorflow==1.13.1) (1.1.2)\n",
            "Requirement already satisfied: numpy>=1.13.3 in /usr/local/lib/python3.7/dist-packages (from tensorflow==1.13.1) (1.19.5)\n",
            "Requirement already satisfied: absl-py>=0.1.6 in /usr/local/lib/python3.7/dist-packages (from tensorflow==1.13.1) (0.10.0)\n",
            "Requirement already satisfied: grpcio>=1.8.6 in /usr/local/lib/python3.7/dist-packages (from tensorflow==1.13.1) (1.32.0)\n",
            "Collecting keras-applications>=1.0.6\n",
            "\u001b[?25l  Downloading https://files.pythonhosted.org/packages/71/e3/19762fdfc62877ae9102edf6342d71b28fbfd9dea3d2f96a882ce099b03f/Keras_Applications-1.0.8-py3-none-any.whl (50kB)\n",
            "\u001b[K     |████████████████████████████████| 51kB 8.0MB/s \n",
            "\u001b[?25hRequirement already satisfied: termcolor>=1.1.0 in /usr/local/lib/python3.7/dist-packages (from tensorflow==1.13.1) (1.1.0)\n",
            "Requirement already satisfied: gast>=0.2.0 in /usr/local/lib/python3.7/dist-packages (from tensorflow==1.13.1) (0.3.3)\n",
            "Requirement already satisfied: protobuf>=3.6.1 in /usr/local/lib/python3.7/dist-packages (from tensorflow==1.13.1) (3.12.4)\n",
            "Collecting tensorboard<1.14.0,>=1.13.0\n",
            "\u001b[?25l  Downloading https://files.pythonhosted.org/packages/0f/39/bdd75b08a6fba41f098b6cb091b9e8c7a80e1b4d679a581a0ccd17b10373/tensorboard-1.13.1-py3-none-any.whl (3.2MB)\n",
            "\u001b[K     |████████████████████████████████| 3.2MB 54.4MB/s \n",
            "\u001b[?25hCollecting tensorflow-estimator<1.14.0rc0,>=1.13.0\n",
            "\u001b[?25l  Downloading https://files.pythonhosted.org/packages/bb/48/13f49fc3fa0fdf916aa1419013bb8f2ad09674c275b4046d5ee669a46873/tensorflow_estimator-1.13.0-py2.py3-none-any.whl (367kB)\n",
            "\u001b[K     |████████████████████████████████| 368kB 51.3MB/s \n",
            "\u001b[?25hRequirement already satisfied: six>=1.10.0 in /usr/local/lib/python3.7/dist-packages (from tensorflow==1.13.1) (1.15.0)\n",
            "Requirement already satisfied: h5py in /usr/local/lib/python3.7/dist-packages (from keras-applications>=1.0.6->tensorflow==1.13.1) (2.10.0)\n",
            "Requirement already satisfied: setuptools in /usr/local/lib/python3.7/dist-packages (from protobuf>=3.6.1->tensorflow==1.13.1) (54.0.0)\n",
            "Requirement already satisfied: markdown>=2.6.8 in /usr/local/lib/python3.7/dist-packages (from tensorboard<1.14.0,>=1.13.0->tensorflow==1.13.1) (3.3.4)\n",
            "Requirement already satisfied: werkzeug>=0.11.15 in /usr/local/lib/python3.7/dist-packages (from tensorboard<1.14.0,>=1.13.0->tensorflow==1.13.1) (1.0.1)\n",
            "Collecting mock>=2.0.0\n",
            "  Downloading https://files.pythonhosted.org/packages/5c/03/b7e605db4a57c0f6fba744b11ef3ddf4ddebcada35022927a2b5fc623fdf/mock-4.0.3-py3-none-any.whl\n",
            "Requirement already satisfied: importlib-metadata; python_version < \"3.8\" in /usr/local/lib/python3.7/dist-packages (from markdown>=2.6.8->tensorboard<1.14.0,>=1.13.0->tensorflow==1.13.1) (3.7.2)\n",
            "Requirement already satisfied: typing-extensions>=3.6.4; python_version < \"3.8\" in /usr/local/lib/python3.7/dist-packages (from importlib-metadata; python_version < \"3.8\"->markdown>=2.6.8->tensorboard<1.14.0,>=1.13.0->tensorflow==1.13.1) (3.7.4.3)\n",
            "Requirement already satisfied: zipp>=0.5 in /usr/local/lib/python3.7/dist-packages (from importlib-metadata; python_version < \"3.8\"->markdown>=2.6.8->tensorboard<1.14.0,>=1.13.0->tensorflow==1.13.1) (3.4.1)\n",
            "Installing collected packages: keras-applications, tensorboard, mock, tensorflow-estimator, tensorflow\n",
            "  Found existing installation: tensorboard 2.4.1\n",
            "    Uninstalling tensorboard-2.4.1:\n",
            "      Successfully uninstalled tensorboard-2.4.1\n",
            "  Found existing installation: tensorflow-estimator 2.4.0\n",
            "    Uninstalling tensorflow-estimator-2.4.0:\n",
            "      Successfully uninstalled tensorflow-estimator-2.4.0\n",
            "  Found existing installation: tensorflow 2.4.1\n",
            "    Uninstalling tensorflow-2.4.1:\n",
            "      Successfully uninstalled tensorflow-2.4.1\n",
            "Successfully installed keras-applications-1.0.8 mock-4.0.3 tensorboard-1.13.1 tensorflow-1.13.1 tensorflow-estimator-1.13.0\n"
          ],
          "name": "stdout"
        },
        {
          "output_type": "display_data",
          "data": {
            "application/vnd.colab-display-data+json": {
              "pip_warning": {
                "packages": [
                  "tensorboard",
                  "tensorflow"
                ]
              }
            }
          },
          "metadata": {
            "tags": []
          }
        }
      ]
    },
    {
      "cell_type": "code",
      "metadata": {
        "colab": {
          "base_uri": "https://localhost:8080/"
        },
        "id": "9V1kBPiZfGMC",
        "outputId": "b52d66de-e004-44ce-b620-6bf41f45cfde"
      },
      "source": [
        "!pip install keras==2.2.4"
      ],
      "execution_count": null,
      "outputs": [
        {
          "output_type": "stream",
          "text": [
            "Collecting keras==2.2.4\n",
            "\u001b[?25l  Downloading https://files.pythonhosted.org/packages/5e/10/aa32dad071ce52b5502266b5c659451cfd6ffcbf14e6c8c4f16c0ff5aaab/Keras-2.2.4-py2.py3-none-any.whl (312kB)\n",
            "\r\u001b[K     |█                               | 10kB 17.7MB/s eta 0:00:01\r\u001b[K     |██                              | 20kB 20.4MB/s eta 0:00:01\r\u001b[K     |███▏                            | 30kB 11.3MB/s eta 0:00:01\r\u001b[K     |████▏                           | 40kB 9.2MB/s eta 0:00:01\r\u001b[K     |█████▎                          | 51kB 7.8MB/s eta 0:00:01\r\u001b[K     |██████▎                         | 61kB 8.2MB/s eta 0:00:01\r\u001b[K     |███████▍                        | 71kB 7.9MB/s eta 0:00:01\r\u001b[K     |████████▍                       | 81kB 8.1MB/s eta 0:00:01\r\u001b[K     |█████████▍                      | 92kB 8.0MB/s eta 0:00:01\r\u001b[K     |██████████▌                     | 102kB 7.5MB/s eta 0:00:01\r\u001b[K     |███████████▌                    | 112kB 7.5MB/s eta 0:00:01\r\u001b[K     |████████████▋                   | 122kB 7.5MB/s eta 0:00:01\r\u001b[K     |█████████████▋                  | 133kB 7.5MB/s eta 0:00:01\r\u001b[K     |██████████████▊                 | 143kB 7.5MB/s eta 0:00:01\r\u001b[K     |███████████████▊                | 153kB 7.5MB/s eta 0:00:01\r\u001b[K     |████████████████▊               | 163kB 7.5MB/s eta 0:00:01\r\u001b[K     |█████████████████▉              | 174kB 7.5MB/s eta 0:00:01\r\u001b[K     |██████████████████▉             | 184kB 7.5MB/s eta 0:00:01\r\u001b[K     |████████████████████            | 194kB 7.5MB/s eta 0:00:01\r\u001b[K     |█████████████████████           | 204kB 7.5MB/s eta 0:00:01\r\u001b[K     |██████████████████████          | 215kB 7.5MB/s eta 0:00:01\r\u001b[K     |███████████████████████         | 225kB 7.5MB/s eta 0:00:01\r\u001b[K     |████████████████████████▏       | 235kB 7.5MB/s eta 0:00:01\r\u001b[K     |█████████████████████████▏      | 245kB 7.5MB/s eta 0:00:01\r\u001b[K     |██████████████████████████▏     | 256kB 7.5MB/s eta 0:00:01\r\u001b[K     |███████████████████████████▎    | 266kB 7.5MB/s eta 0:00:01\r\u001b[K     |████████████████████████████▎   | 276kB 7.5MB/s eta 0:00:01\r\u001b[K     |█████████████████████████████▍  | 286kB 7.5MB/s eta 0:00:01\r\u001b[K     |██████████████████████████████▍ | 296kB 7.5MB/s eta 0:00:01\r\u001b[K     |███████████████████████████████▌| 307kB 7.5MB/s eta 0:00:01\r\u001b[K     |████████████████████████████████| 317kB 7.5MB/s \n",
            "\u001b[?25hRequirement already satisfied: scipy>=0.14 in /usr/local/lib/python3.7/dist-packages (from keras==2.2.4) (1.4.1)\n",
            "Requirement already satisfied: numpy>=1.9.1 in /usr/local/lib/python3.7/dist-packages (from keras==2.2.4) (1.19.5)\n",
            "Requirement already satisfied: keras-preprocessing>=1.0.5 in /usr/local/lib/python3.7/dist-packages (from keras==2.2.4) (1.1.2)\n",
            "Requirement already satisfied: pyyaml in /usr/local/lib/python3.7/dist-packages (from keras==2.2.4) (3.13)\n",
            "Requirement already satisfied: keras-applications>=1.0.6 in /usr/local/lib/python3.7/dist-packages (from keras==2.2.4) (1.0.8)\n",
            "Requirement already satisfied: six>=1.9.0 in /usr/local/lib/python3.7/dist-packages (from keras==2.2.4) (1.15.0)\n",
            "Requirement already satisfied: h5py in /usr/local/lib/python3.7/dist-packages (from keras==2.2.4) (2.10.0)\n",
            "Installing collected packages: keras\n",
            "  Found existing installation: Keras 2.4.3\n",
            "    Uninstalling Keras-2.4.3:\n",
            "      Successfully uninstalled Keras-2.4.3\n",
            "Successfully installed keras-2.2.4\n"
          ],
          "name": "stdout"
        }
      ]
    }
  ]
}