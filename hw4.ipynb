{
 "cells": [
  {
   "cell_type": "markdown",
   "metadata": {},
   "source": [
    "# Homework 4: Sentence Segmentation\n",
    "\n",
    "Sentence segmentation is a crucial, yet under-appreciated, part of any text processing pipeline. In any real-world setting, text will not come to you pre-chunked into sentences, and if your pipeline involves any sentence-level analysis (parsing, translation, entity & co-reference extraction, etc.) the first thing you'll need to do will be split things up into sentences. This is a deceptively challenging problem, as punctuation can be used in multiple ways. Consider the following sentence (borrowed from Kyle Gorman's [excellent discussion of the subject](http://www.wellformedness.com/blog/simpler-sentence-boundary-detection/)): \n",
    "\n",
    "> _\"Rolls-Royce Motor Cars Inc. said it expects its U.S. sales to remain steady at about 1,200 cars in 1990.\"_ \n",
    "\n",
    "This sentence features several periods, but only one of them (the last one) represents a valid sentence break. Sentences can also have embedded clauses or quotation marks, some of which may superficially look like a sentence boundary: \n",
    "\n",
    "> _He says the big questions–“Do you really need this much money to put up these investments? Have you told investors what is happening in your sector? What about your track record?–“aren’t asked of companies coming to market._\n",
    "\n",
    "There are many ways to approach this particular problem; it can be approached using rules, which themselves may be encoded as regular expressions, or (more usefully) it can be modeled as a machine learning problem. Specifically, as a binary classification problem, where candidate sentence boundaries (i.e., punctuation marks from the closed class of English punctuation that can represent a sentence boundary) are either _positive_ examples (actual sentence boundaries) or _false_ (not sentence boundaries). \n",
    "\n",
    "In this assignment, you will develop and test your own sentence boundary detection algorithm. This assignment is shorter than our previous assignments, and is also much more open-ended. By this point in the class, you have been exposed to several different families of technique for text classification and analysis, and have hopefully begun to build up some intuitions. For this assignment, you can choose whatever methods you like: log-linear models, rule-based methods, some sort of neural network, it's up to you!"
   ]
  },
  {
   "cell_type": "markdown",
   "metadata": {},
   "source": [
    "## 0. Setup & data exploration"
   ]
  },
  {
   "cell_type": "code",
   "execution_count": 1,
   "metadata": {},
   "outputs": [],
   "source": [
    "from importlib import reload\n",
    "from sklearn.metrics import classification_report, accuracy_score"
   ]
  },
  {
   "cell_type": "code",
   "execution_count": 2,
   "metadata": {},
   "outputs": [],
   "source": [
    "from hw4_utils import data\n",
    "from hw4_utils import classifier"
   ]
  },
  {
   "cell_type": "markdown",
   "metadata": {},
   "source": [
    "We've provided a version of the WSJ section of the Penn Treebank to use for training and evaluation purposes. See `data/wsj_sbd/README.md` for a description of where this data came from and how it was assembled.\n",
    "\n",
    "The `hw4_utils.data` module has a useful method for reading in data (`file_as_string`) and another utility function to extract candidate boundaries. Let's use these to explore our data a little bit."
   ]
  },
  {
   "cell_type": "code",
   "execution_count": 3,
   "metadata": {},
   "outputs": [],
   "source": [
    "dev = data.file_as_string(\"data/wsj_sbd/dev.txt\")\n",
    "train = data.file_as_string(\"data/wsj_sbd/train.txt\")\n",
    "test = data.file_as_string(\"data/wsj_sbd/test.txt\")"
   ]
  },
  {
   "cell_type": "code",
   "execution_count": 4,
   "metadata": {},
   "outputs": [
    {
     "data": {
      "text/plain": [
       "'Pierre Vinken, 61 years old, will join the board as a nonexecutive director Nov. 29.\\nMr. Vinken is c'"
      ]
     },
     "execution_count": 4,
     "metadata": {},
     "output_type": "execute_result"
    }
   ],
   "source": [
    "dev[:100]"
   ]
  },
  {
   "cell_type": "code",
   "execution_count": 5,
   "metadata": {},
   "outputs": [
    {
     "data": {
      "text/plain": [
       "'Pierre Vinken, 61 years old, will join the board as a nonexecutive director Nov. 29.\\nMr. Vinken is chairman of Elsevier N.V., the Dutch publishing group.\\nRudolph Agnew, 55 years old and former chairma'"
      ]
     },
     "execution_count": 5,
     "metadata": {},
     "output_type": "execute_result"
    }
   ],
   "source": [
    "dev[:200]"
   ]
  },
  {
   "cell_type": "markdown",
   "metadata": {},
   "source": [
    "Each of these is a string containing the text, with one input sentence per line. Note that newline characters are still present, which will be important as this will provide us with our ground truth.\n",
    "\n",
    "Remember, we _only_ will use the `test` split for our final evaluation. For data exploration, feature engineering, and for tuning hyperparameters, use the `dev` split.\n",
    "\n",
    "The first and most important thing to find out when doing classification is what your class probabilities are, so let's look into that. The `load_candidates()` function in the `hw4_utils.data` module will read an input data split, identify candidate boundaries, and extract information about the candidates context that we may want to use for feature engineering. One of the attributes it will extract is whether or not the candidate is actually a true sentence break (`is_true_break`). Obviously, this would only be useful at training time, as in the \"real world\" we wouldn't know the answer. :-)\n",
    "\n",
    "We will use `load_candidates()` to answer our question about class balance:"
   ]
  },
  {
   "cell_type": "code",
   "execution_count": 6,
   "metadata": {
    "pycharm": {
     "is_executing": true
    }
   },
   "outputs": [
    {
     "data": {
      "text/plain": [
       "Counter({False: 1766, True: 5769})"
      ]
     },
     "execution_count": 6,
     "metadata": {},
     "output_type": "execute_result"
    }
   ],
   "source": [
    "from collections import Counter\n",
    "\n",
    "Counter([c.is_true_break for c in data.load_candidates(dev)])"
   ]
  },
  {
   "cell_type": "markdown",
   "metadata": {},
   "source": [
    "As is often the case, our classes are quite imbalanced! Let's load in our ground truth labels:"
   ]
  },
  {
   "cell_type": "code",
   "execution_count": 7,
   "metadata": {
    "pycharm": {
     "is_executing": true
    }
   },
   "outputs": [],
   "source": [
    "y_dev = [o.is_true_break for o in data.load_candidates(dev)]"
   ]
  },
  {
   "cell_type": "markdown",
   "metadata": {},
   "source": [
    "What else can we find out about our candidate breaks?"
   ]
  },
  {
   "cell_type": "code",
   "execution_count": 8,
   "metadata": {
    "pycharm": {
     "is_executing": true
    }
   },
   "outputs": [],
   "source": [
    "candidates = list(data.load_candidates(dev[:10000])) # for now, just get candidates from the first 10k characters\n",
    "first_can = candidates[0]"
   ]
  },
  {
   "cell_type": "code",
   "execution_count": 9,
   "metadata": {
    "pycharm": {
     "is_executing": true
    }
   },
   "outputs": [
    {
     "name": "stdout",
     "output_type": "stream",
     "text": [
      "original context:  d as a nonexecutive director Nov. 29. Mr. Vinken is chairman of El\n",
      "punctuation mark:  .\n",
      "token to the left:  Nov\n",
      "token to the right:  29\n"
     ]
    }
   ],
   "source": [
    "print(\"original context: \",first_can.orig_obs)\n",
    "print(\"punctuation mark: \", first_can.punctuation_mark)\n",
    "print(\"token to the left: \", first_can.left_token)\n",
    "print(\"token to the right: \", first_can.right_token)"
   ]
  },
  {
   "cell_type": "markdown",
   "metadata": {},
   "source": [
    "**Note:** Take a look at the the `Observation` namedtuple in `hw4_utils.data` for more details about the various attributes that you can find out about each possible sentence boundary."
   ]
  },
  {
   "cell_type": "markdown",
   "metadata": {},
   "source": [
    "## 1. Baselines\n",
    "\n",
    "We will begin by looking at three different baselines. First, we will "
   ]
  },
  {
   "cell_type": "markdown",
   "metadata": {},
   "source": [
    "### Baseline #1: Majority class\n",
    "\n",
    "Since our data are quite imbalanced, what if we always treat every candidate boundary as though it was a true boundary?"
   ]
  },
  {
   "cell_type": "code",
   "execution_count": 52,
   "metadata": {
    "pycharm": {
     "is_executing": true
    }
   },
   "outputs": [
    {
     "name": "stdout",
     "output_type": "stream",
     "text": [
      "              precision    recall  f1-score   support\n",
      "\n",
      "           0       0.00      0.00      0.00      1766\n",
      "           1       0.77      1.00      0.87      5769\n",
      "\n",
      "    accuracy                           0.77      7535\n",
      "   macro avg       0.38      0.50      0.43      7535\n",
      "weighted avg       0.59      0.77      0.66      7535\n",
      "\n"
     ]
    }
   ],
   "source": [
    "y_hat_baseline = [classifier.baseline_classifier(o) for o in data.load_candidates(data.file_as_string(\"data/wsj_sbd/dev.txt\"))]\n",
    "print(classification_report(y_dev, y_hat_baseline))"
   ]
  },
  {
   "cell_type": "markdown",
   "metadata": {},
   "source": [
    "### Baseline #2: Next-token capitalization\n",
    "\n",
    "What if we say that a candidate is a boundary if the following token is capitalized?"
   ]
  },
  {
   "cell_type": "code",
   "execution_count": 11,
   "metadata": {
    "pycharm": {
     "is_executing": true
    }
   },
   "outputs": [
    {
     "name": "stdout",
     "output_type": "stream",
     "text": [
      "              precision    recall  f1-score   support\n",
      "\n",
      "       False       0.60      0.40      0.48      1766\n",
      "        True       0.83      0.92      0.87      5769\n",
      "\n",
      "    accuracy                           0.80      7535\n",
      "   macro avg       0.71      0.66      0.67      7535\n",
      "weighted avg       0.78      0.80      0.78      7535\n",
      "\n"
     ]
    }
   ],
   "source": [
    "y_hat_next_tok_cap = [classifier.next_tok_capitalized_baseline(o) for o in data.load_candidates(data.file_as_string(\"data/wsj_sbd/dev.txt\"))]\n",
    "print(classification_report(y_dev, y_hat_next_tok_cap))"
   ]
  },
  {
   "cell_type": "markdown",
   "metadata": {},
   "source": [
    "### Baseline #3: Punkt\n",
    "\n",
    "Using the [NLTK implementation](http://www.nltk.org/_modules/nltk/tokenize/punkt.html) of [Punkt (Kiss & Strunk, 2006)](https://www.mitpressjournals.org/doi/pdf/10.1162/coli.2006.32.4.485):\n",
    "\n",
    "(Note: You'll need to have downloaded the NLTK pre-trained Punkt model for this baseline to work)"
   ]
  },
  {
   "cell_type": "code",
   "execution_count": 12,
   "metadata": {
    "pycharm": {
     "is_executing": true
    }
   },
   "outputs": [
    {
     "name": "stdout",
     "output_type": "stream",
     "text": [
      "              precision    recall  f1-score   support\n",
      "\n",
      "       False       0.92      0.43      0.59      1766\n",
      "        True       0.85      0.99      0.91      5769\n",
      "\n",
      "    accuracy                           0.86      7535\n",
      "   macro avg       0.88      0.71      0.75      7535\n",
      "weighted avg       0.87      0.86      0.84      7535\n",
      "\n"
     ]
    }
   ],
   "source": [
    "y_hat_punkt = [classifier.punkt_baseline(o) for o in data.load_candidates(data.file_as_string(\"data/wsj_sbd/dev.txt\"))]\n",
    "print(classification_report(y_dev, y_hat_punkt))"
   ]
  },
  {
   "cell_type": "markdown",
   "metadata": {},
   "source": [
    "### Conclusion\n",
    "\n",
    "None of these are especially inspiring in their performance... can you do better?"
   ]
  },
  {
   "cell_type": "markdown",
   "metadata": {},
   "source": [
    "## 2. Your turn!\n",
    "\n",
    "### Part 1: Now it's your turn.\n",
    "\n",
    "Your mission, in this assignment, is to implement at least two additional approaches. The approaches must be different in terms of the features you choose to use, classification approach, or both, but beyond that limitation you are free to do whatever you like as long as it is your own work (i.e., do not download and use an already-existing sentence boundary detector tool). You may, however, replicate an existing algorithm, though please be very careful not about re-using other people's code. \n",
    "\n",
    "For a discussion of features that may prove useful, and of other approaches to this task that you may wish to replicate or build off of, consult the bibliography discussed in [Gorman (2014)](http://www.wellformedness.com/blog/simpler-sentence-boundary-detection/); note that the specific sentence boundary detector described on that page uses a small set of highly useful features, but you will want to go beyond simply replicating his system.\n",
    "\n",
    "***Deliverable***: The code for your ≥ two additional classifiers, along with a brief writeup (≈1 page) of what you built and why you chose those specific approaches and features. \n",
    "\n",
    "### Part 2: Evaluation & Error analysis\n",
    "\n",
    "After building and describing your additional classifiers, evaluate their performance against the `test` partition of the data as shown above. Write a brief summary of their relative performance, and include an _error analysis_. Examine cases where your classifiers failed to predict correctly, or disagreed with one another, and see if you can identify any patterns that might explain where they were going awry.\n",
    "\n",
    "***Deliverable***: Your written summary, as well as any relevant data tables."
   ]
  },
  {
   "cell_type": "code",
   "execution_count": 13,
   "metadata": {
    "pycharm": {
     "is_executing": true
    }
   },
   "outputs": [],
   "source": [
    "import re\n",
    "import numpy as np"
   ]
  },
  {
   "cell_type": "code",
   "execution_count": 14,
   "metadata": {},
   "outputs": [
    {
     "data": {
      "text/plain": [
       "Counter({False: 1766, True: 5769})"
      ]
     },
     "execution_count": 14,
     "metadata": {},
     "output_type": "execute_result"
    }
   ],
   "source": [
    "\n",
    "from collections import Counter\n",
    "\n",
    "Counter([c.is_true_break for c in data.load_candidates(dev)])"
   ]
  },
  {
   "cell_type": "code",
   "execution_count": 15,
   "metadata": {},
   "outputs": [
    {
     "data": {
      "text/plain": [
       "Counter({True: 7531, False: 2205})"
      ]
     },
     "execution_count": 15,
     "metadata": {},
     "output_type": "execute_result"
    }
   ],
   "source": [
    "Counter([c.is_true_break for c in data.load_candidates(test)])"
   ]
  },
  {
   "cell_type": "code",
   "execution_count": 16,
   "metadata": {},
   "outputs": [
    {
     "data": {
      "text/plain": [
       "Counter({True: 34826, False: 9453})"
      ]
     },
     "execution_count": 16,
     "metadata": {},
     "output_type": "execute_result"
    }
   ],
   "source": [
    "Counter([c.is_true_break for c in data.load_candidates(train)])"
   ]
  },
  {
   "cell_type": "markdown",
   "metadata": {},
   "source": [
    "### 1: Regex based approach"
   ]
  },
  {
   "cell_type": "code",
   "execution_count": 17,
   "metadata": {},
   "outputs": [],
   "source": [
    "months = ['Jan', 'Feb', 'Mar', 'Apr','Jun','Jul','Aug','Sept','Sep','Oct','Nov','Dec']\n",
    "month_list=[]\n",
    "for i in months:\n",
    "    month_list.append(i)\n",
    "    month_list.append(i.upper())\n",
    "    month_list.append(i.lower())\n",
    "title= ['Mr','Mrs','Sr','Dr','Prof','Exec','Capt','Lt']\n",
    "title = re.compile('|'.join(title))\n",
    "other_abbr=['St','Apt','Rd','Co','Inc','Ltd','Dept','Corp','Blvd','e.g.','encl','etc','fig','acct.','ft','i.e.','no','hr']\n",
    "abbrebiation=month_list+other_abbr\n",
    "alpha_numeric = re.compile(\"([a-z]|[0-9]).*\")\n",
    "abbrebiation = re.compile('|'.join(abbrebiation))\n",
    "initials = re.compile('([a-zA-Z]\\.)*[a-zA-Z]')"
   ]
  },
  {
   "cell_type": "code",
   "execution_count": 18,
   "metadata": {},
   "outputs": [],
   "source": [
    "def regex_based_classifier(candidate, test_output=False):\n",
    "    if title.fullmatch(candidate.left_token) or abbrebiation.match(candidate.left_raw) and alpha_numeric.match(candidate.right_token) or initials.fullmatch(candidate.left_token):\n",
    "        if test_output and candidate.is_true_break:\n",
    "            print(candidate.left_token,candidate.orig_obs)\n",
    "            print(\"False Negative\")\n",
    "        return False\n",
    "    else:\n",
    "        if test_output and not candidate.is_true_break:\n",
    "            print(candidate.left_token,candidate.orig_obs)\n",
    "            print(\"False Positive\")\n",
    "        return True"
   ]
  },
  {
   "cell_type": "code",
   "execution_count": 19,
   "metadata": {},
   "outputs": [],
   "source": [
    "y_train = [o.is_true_break for o in data.load_candidates(train)]"
   ]
  },
  {
   "cell_type": "code",
   "execution_count": 20,
   "metadata": {},
   "outputs": [],
   "source": [
    "train_result = [regex_based_classifier(o) for o in data.load_candidates(train)]"
   ]
  },
  {
   "cell_type": "code",
   "execution_count": 21,
   "metadata": {},
   "outputs": [
    {
     "name": "stdout",
     "output_type": "stream",
     "text": [
      "              precision    recall  f1-score   support\n",
      "\n",
      "       False       0.97      0.65      0.78      9453\n",
      "        True       0.91      0.99      0.95     34826\n",
      "\n",
      "    accuracy                           0.92     44279\n",
      "   macro avg       0.94      0.82      0.86     44279\n",
      "weighted avg       0.92      0.92      0.91     44279\n",
      "\n"
     ]
    }
   ],
   "source": [
    "print(classification_report(y_train, train_result))"
   ]
  },
  {
   "cell_type": "code",
   "execution_count": 22,
   "metadata": {},
   "outputs": [
    {
     "name": "stdout",
     "output_type": "stream",
     "text": [
      "              precision    recall  f1-score   support\n",
      "\n",
      "       False       0.97      0.72      0.83      1766\n",
      "        True       0.92      0.99      0.96      5769\n",
      "\n",
      "    accuracy                           0.93      7535\n",
      "   macro avg       0.95      0.86      0.89      7535\n",
      "weighted avg       0.93      0.93      0.93      7535\n",
      "\n"
     ]
    }
   ],
   "source": [
    "y_dev = [o.is_true_break for o in data.load_candidates(dev)]\n",
    "dev_result = [regex_based_classifier(o) for o in data.load_candidates(dev)]\n",
    "print(classification_report(y_dev, dev_result))"
   ]
  },
  {
   "cell_type": "code",
   "execution_count": 23,
   "metadata": {},
   "outputs": [
    {
     "name": "stdout",
     "output_type": "stream",
     "text": [
      "              precision    recall  f1-score   support\n",
      "\n",
      "       False       0.98      0.67      0.80      2205\n",
      "        True       0.91      1.00      0.95      7531\n",
      "\n",
      "    accuracy                           0.92      9736\n",
      "   macro avg       0.95      0.83      0.88      9736\n",
      "weighted avg       0.93      0.92      0.92      9736\n",
      "\n"
     ]
    }
   ],
   "source": [
    "y_test = [o.is_true_break for o in data.load_candidates(test)]\n",
    "test_results = [regex_based_classifier(o) for o in data.load_candidates(test)]\n",
    "print(classification_report(y_test, test_results))"
   ]
  },
  {
   "cell_type": "markdown",
   "metadata": {},
   "source": [
    "Regex based approach here did perform good. The accuracy score here is 92 which is not bad. However it seems that may be there are lot more abbrebiations in the english dictionary than mentioned here, for which the classifier is not able to classify giving False positive and False negative results.\n",
    "In this approach I validated the sentence breaker by analysing the left and right of the period and if that list presents in my regex database. If yes then I considered it as not a true breaker else a sentence breaker.\n",
    "\n",
    "This classifier works similar in all three datasets - train, val and test. So, it seems the F1 score in test dataset is improved than train and val data. Overall my regex classifier works pretty well."
   ]
  },
  {
   "cell_type": "markdown",
   "metadata": {},
   "source": [
    "### 2 Approach : Feature extraction approach for the train, dev and test dataset and then using decision tree:\n"
   ]
  },
  {
   "cell_type": "markdown",
   "metadata": {},
   "source": [
    "In the second approach I thought of creating my own dataframe of important features which is mentioned in the \"http://www.wellformedness.com/blog/simpler-sentence-boundary-detection/\" article. So here I took features as listed below:\n",
    "1: EOS/NEOS \n",
    "\n",
    "2: left token\n",
    "\n",
    "3: right token\n",
    "\n",
    "4: length of left token <3 ?\n",
    "\n",
    "5: first character of left token is upper?\n",
    "\n",
    "6: first character of right token is upper?\n",
    "\n",
    "7: first character of right token is number?\n",
    "\n",
    "8: length of right token < 2 ?\n",
    "\n",
    "9: length of left token  < 2 ?\n",
    "\n",
    "10: left token is '}' ?\n",
    "\n",
    "11: right token is '{' ?\n",
    "\n",
    "\n",
    "Using these features in boundary classification task gave me pretty good accuracy using DecisionTreeClassifier.\n",
    "The accuracy came as : 89 on dev set and 90 on test set.\n",
    "However if I compare the result with my regex based classifier, I found regex approach works better than the feature selection.\n",
    "This may be due to the fact that I have missed some very important feature in my classification.\n",
    "My precision for both the class came pretty well.\n",
    "\n",
    "I tried to compare the correlated features with the model's feature importance and it seems like:\n",
    "The correlation of \"Left token < 3\" and \"Left token capital\" are highly negative with the target variable. Therefore, these two features can be important for sentence boundary classification.\n",
    "\n",
    "The same features are generated by the model also using sklearn feature_importance_ funtion."
   ]
  },
  {
   "cell_type": "code",
   "execution_count": 24,
   "metadata": {},
   "outputs": [],
   "source": [
    "import pandas as pd\n",
    "from sklearn.tree import DecisionTreeClassifier"
   ]
  },
  {
   "cell_type": "code",
   "execution_count": 25,
   "metadata": {},
   "outputs": [],
   "source": [
    "train = list(data.load_candidates(data.file_as_string(\"data/wsj_sbd/train.txt\")))\n",
    "dev = list(data.load_candidates(data.file_as_string(\"data/wsj_sbd/dev.txt\")))\n",
    "test = list(data.load_candidates(data.file_as_string(\"data/wsj_sbd/test.txt\")))"
   ]
  },
  {
   "cell_type": "code",
   "execution_count": 26,
   "metadata": {},
   "outputs": [],
   "source": [
    "def create_dataset(catagory):\n",
    "    new_dataframe=[]\n",
    "    for o in catagory:\n",
    "        if o.is_true_break==True:\n",
    "            \n",
    "            new_dataframe.append(['EOS',o.left_token,o.right_token,int(len(o.left_token)<3),int((o.left_token[0]).isupper()),\n",
    "            int((o.right_token[0]).isupper()),int((o.right_token).isnumeric()),int(len(o.right_token)<2),\n",
    "                            int(len(o.left_token)<2),int(o.right_token[0] == '{'),int(o.left_token[0] == '}'),int((o.right_token)=='``')])\n",
    "        else:\n",
    "            #print(\"int(isinstance(o.right_token,int))\",o.right_token,int((o.right_token).isnumeric()))\n",
    "            new_dataframe.append(['NEOS',o.left_token,o.right_token,int(len(o.left_token)<3),int((o.left_token[0]).isupper()),\n",
    "            int((o.right_token[0]).isupper()),int((o.right_token).isnumeric()),int(len(o.right_token)<2),\n",
    "                             int(len(o.left_token)<2),int(o.right_token[0] == '{'),int(o.left_token[0] == '}'),int((o.right_token)=='``')])\n",
    "    return new_dataframe"
   ]
  },
  {
   "cell_type": "code",
   "execution_count": 27,
   "metadata": {},
   "outputs": [],
   "source": [
    "train_data=create_dataset(train)\n",
    "dev_data=create_dataset(dev)\n",
    "test_data=create_dataset(test)"
   ]
  },
  {
   "cell_type": "code",
   "execution_count": 28,
   "metadata": {},
   "outputs": [],
   "source": [
    "#Creating the Dataframes for the train,dev and test data\n",
    "train_df = pd.DataFrame(train_data, columns = ['EOS/NEOS', 'Left','Right','L < 3', 'L_capital','R_capital','R=Num','R < 2','L < 2','R = {','L=}','R=``'])\n",
    "dev_df = pd.DataFrame(dev_data, columns =     ['EOS/NEOS', 'Left','Right','L < 3', 'L_capital','R_capital','R=Num','R < 2','L < 2','R = {','L=}','R=``'])\n",
    "test_df = pd.DataFrame(test_data, columns =   ['EOS/NEOS', 'Left','Right','L < 3', 'L_capital','R_capital','R=Num','R < 2','L < 2','R = {','L=}','R=``'])\n"
   ]
  },
  {
   "cell_type": "code",
   "execution_count": 29,
   "metadata": {},
   "outputs": [
    {
     "data": {
      "text/html": [
       "<div>\n",
       "<style scoped>\n",
       "    .dataframe tbody tr th:only-of-type {\n",
       "        vertical-align: middle;\n",
       "    }\n",
       "\n",
       "    .dataframe tbody tr th {\n",
       "        vertical-align: top;\n",
       "    }\n",
       "\n",
       "    .dataframe thead th {\n",
       "        text-align: right;\n",
       "    }\n",
       "</style>\n",
       "<table border=\"1\" class=\"dataframe\">\n",
       "  <thead>\n",
       "    <tr style=\"text-align: right;\">\n",
       "      <th></th>\n",
       "      <th>EOS/NEOS</th>\n",
       "      <th>Left</th>\n",
       "      <th>Right</th>\n",
       "      <th>L &lt; 3</th>\n",
       "      <th>L_capital</th>\n",
       "      <th>R_capital</th>\n",
       "      <th>R=Num</th>\n",
       "      <th>R &lt; 2</th>\n",
       "      <th>L &lt; 2</th>\n",
       "      <th>R = {</th>\n",
       "      <th>L=}</th>\n",
       "      <th>R=``</th>\n",
       "    </tr>\n",
       "  </thead>\n",
       "  <tbody>\n",
       "    <tr>\n",
       "      <th>0</th>\n",
       "      <td>EOS</td>\n",
       "      <td>community</td>\n",
       "      <td>Hong</td>\n",
       "      <td>0</td>\n",
       "      <td>0</td>\n",
       "      <td>1</td>\n",
       "      <td>0</td>\n",
       "      <td>0</td>\n",
       "      <td>0</td>\n",
       "      <td>0</td>\n",
       "      <td>0</td>\n",
       "      <td>0</td>\n",
       "    </tr>\n",
       "    <tr>\n",
       "      <th>1</th>\n",
       "      <td>EOS</td>\n",
       "      <td>time</td>\n",
       "      <td>The</td>\n",
       "      <td>0</td>\n",
       "      <td>0</td>\n",
       "      <td>1</td>\n",
       "      <td>0</td>\n",
       "      <td>0</td>\n",
       "      <td>0</td>\n",
       "      <td>0</td>\n",
       "      <td>0</td>\n",
       "      <td>0</td>\n",
       "    </tr>\n",
       "    <tr>\n",
       "      <th>2</th>\n",
       "      <td>EOS</td>\n",
       "      <td>crash</td>\n",
       "      <td>The</td>\n",
       "      <td>0</td>\n",
       "      <td>0</td>\n",
       "      <td>1</td>\n",
       "      <td>0</td>\n",
       "      <td>0</td>\n",
       "      <td>0</td>\n",
       "      <td>0</td>\n",
       "      <td>0</td>\n",
       "      <td>0</td>\n",
       "    </tr>\n",
       "    <tr>\n",
       "      <th>3</th>\n",
       "      <td>EOS</td>\n",
       "      <td>contract</td>\n",
       "      <td>The</td>\n",
       "      <td>0</td>\n",
       "      <td>0</td>\n",
       "      <td>1</td>\n",
       "      <td>0</td>\n",
       "      <td>0</td>\n",
       "      <td>0</td>\n",
       "      <td>0</td>\n",
       "      <td>0</td>\n",
       "      <td>0</td>\n",
       "    </tr>\n",
       "    <tr>\n",
       "      <th>4</th>\n",
       "      <td>EOS</td>\n",
       "      <td>week</td>\n",
       "      <td>But</td>\n",
       "      <td>0</td>\n",
       "      <td>0</td>\n",
       "      <td>1</td>\n",
       "      <td>0</td>\n",
       "      <td>0</td>\n",
       "      <td>0</td>\n",
       "      <td>0</td>\n",
       "      <td>0</td>\n",
       "      <td>0</td>\n",
       "    </tr>\n",
       "  </tbody>\n",
       "</table>\n",
       "</div>"
      ],
      "text/plain": [
       "  EOS/NEOS       Left Right  L < 3  L_capital  R_capital  R=Num  R < 2  L < 2  \\\n",
       "0      EOS  community  Hong      0          0          1      0      0      0   \n",
       "1      EOS       time   The      0          0          1      0      0      0   \n",
       "2      EOS      crash   The      0          0          1      0      0      0   \n",
       "3      EOS   contract   The      0          0          1      0      0      0   \n",
       "4      EOS       week   But      0          0          1      0      0      0   \n",
       "\n",
       "   R = {  L=}  R=``  \n",
       "0      0    0     0  \n",
       "1      0    0     0  \n",
       "2      0    0     0  \n",
       "3      0    0     0  \n",
       "4      0    0     0  "
      ]
     },
     "execution_count": 29,
     "metadata": {},
     "output_type": "execute_result"
    }
   ],
   "source": [
    "train_df.head(5)"
   ]
  },
  {
   "cell_type": "code",
   "execution_count": 30,
   "metadata": {},
   "outputs": [
    {
     "data": {
      "text/html": [
       "<div>\n",
       "<style scoped>\n",
       "    .dataframe tbody tr th:only-of-type {\n",
       "        vertical-align: middle;\n",
       "    }\n",
       "\n",
       "    .dataframe tbody tr th {\n",
       "        vertical-align: top;\n",
       "    }\n",
       "\n",
       "    .dataframe thead th {\n",
       "        text-align: right;\n",
       "    }\n",
       "</style>\n",
       "<table border=\"1\" class=\"dataframe\">\n",
       "  <thead>\n",
       "    <tr style=\"text-align: right;\">\n",
       "      <th></th>\n",
       "      <th>EOS/NEOS</th>\n",
       "      <th>Left</th>\n",
       "      <th>Right</th>\n",
       "      <th>L &lt; 3</th>\n",
       "      <th>L_capital</th>\n",
       "      <th>R_capital</th>\n",
       "      <th>R=Num</th>\n",
       "      <th>R &lt; 2</th>\n",
       "      <th>L &lt; 2</th>\n",
       "      <th>R = {</th>\n",
       "      <th>L=}</th>\n",
       "      <th>R=``</th>\n",
       "    </tr>\n",
       "  </thead>\n",
       "  <tbody>\n",
       "    <tr>\n",
       "      <th>0</th>\n",
       "      <td>NEOS</td>\n",
       "      <td>Nov</td>\n",
       "      <td>29</td>\n",
       "      <td>0</td>\n",
       "      <td>1</td>\n",
       "      <td>0</td>\n",
       "      <td>1</td>\n",
       "      <td>0</td>\n",
       "      <td>0</td>\n",
       "      <td>0</td>\n",
       "      <td>0</td>\n",
       "      <td>0</td>\n",
       "    </tr>\n",
       "    <tr>\n",
       "      <th>1</th>\n",
       "      <td>EOS</td>\n",
       "      <td>29</td>\n",
       "      <td>Mr</td>\n",
       "      <td>1</td>\n",
       "      <td>0</td>\n",
       "      <td>1</td>\n",
       "      <td>0</td>\n",
       "      <td>0</td>\n",
       "      <td>0</td>\n",
       "      <td>0</td>\n",
       "      <td>0</td>\n",
       "      <td>0</td>\n",
       "    </tr>\n",
       "    <tr>\n",
       "      <th>2</th>\n",
       "      <td>NEOS</td>\n",
       "      <td>Mr</td>\n",
       "      <td>Vinken</td>\n",
       "      <td>1</td>\n",
       "      <td>1</td>\n",
       "      <td>1</td>\n",
       "      <td>0</td>\n",
       "      <td>0</td>\n",
       "      <td>0</td>\n",
       "      <td>0</td>\n",
       "      <td>0</td>\n",
       "      <td>0</td>\n",
       "    </tr>\n",
       "    <tr>\n",
       "      <th>3</th>\n",
       "      <td>EOS</td>\n",
       "      <td>group</td>\n",
       "      <td>Rudolph</td>\n",
       "      <td>0</td>\n",
       "      <td>0</td>\n",
       "      <td>1</td>\n",
       "      <td>0</td>\n",
       "      <td>0</td>\n",
       "      <td>0</td>\n",
       "      <td>0</td>\n",
       "      <td>0</td>\n",
       "      <td>0</td>\n",
       "    </tr>\n",
       "    <tr>\n",
       "      <th>4</th>\n",
       "      <td>EOS</td>\n",
       "      <td>conglomerate</td>\n",
       "      <td>A</td>\n",
       "      <td>0</td>\n",
       "      <td>0</td>\n",
       "      <td>1</td>\n",
       "      <td>0</td>\n",
       "      <td>1</td>\n",
       "      <td>0</td>\n",
       "      <td>0</td>\n",
       "      <td>0</td>\n",
       "      <td>0</td>\n",
       "    </tr>\n",
       "  </tbody>\n",
       "</table>\n",
       "</div>"
      ],
      "text/plain": [
       "  EOS/NEOS          Left    Right  L < 3  L_capital  R_capital  R=Num  R < 2  \\\n",
       "0     NEOS           Nov       29      0          1          0      1      0   \n",
       "1      EOS            29       Mr      1          0          1      0      0   \n",
       "2     NEOS            Mr   Vinken      1          1          1      0      0   \n",
       "3      EOS         group  Rudolph      0          0          1      0      0   \n",
       "4      EOS  conglomerate        A      0          0          1      0      1   \n",
       "\n",
       "   L < 2  R = {  L=}  R=``  \n",
       "0      0      0    0     0  \n",
       "1      0      0    0     0  \n",
       "2      0      0    0     0  \n",
       "3      0      0    0     0  \n",
       "4      0      0    0     0  "
      ]
     },
     "execution_count": 30,
     "metadata": {},
     "output_type": "execute_result"
    }
   ],
   "source": [
    "dev_df.head(5)"
   ]
  },
  {
   "cell_type": "code",
   "execution_count": 31,
   "metadata": {},
   "outputs": [
    {
     "data": {
      "text/html": [
       "<div>\n",
       "<style scoped>\n",
       "    .dataframe tbody tr th:only-of-type {\n",
       "        vertical-align: middle;\n",
       "    }\n",
       "\n",
       "    .dataframe tbody tr th {\n",
       "        vertical-align: top;\n",
       "    }\n",
       "\n",
       "    .dataframe thead th {\n",
       "        text-align: right;\n",
       "    }\n",
       "</style>\n",
       "<table border=\"1\" class=\"dataframe\">\n",
       "  <thead>\n",
       "    <tr style=\"text-align: right;\">\n",
       "      <th></th>\n",
       "      <th>EOS/NEOS</th>\n",
       "      <th>Left</th>\n",
       "      <th>Right</th>\n",
       "      <th>L &lt; 3</th>\n",
       "      <th>L_capital</th>\n",
       "      <th>R_capital</th>\n",
       "      <th>R=Num</th>\n",
       "      <th>R &lt; 2</th>\n",
       "      <th>L &lt; 2</th>\n",
       "      <th>R = {</th>\n",
       "      <th>L=}</th>\n",
       "      <th>R=``</th>\n",
       "    </tr>\n",
       "  </thead>\n",
       "  <tbody>\n",
       "    <tr>\n",
       "      <th>0</th>\n",
       "      <td>EOS</td>\n",
       "      <td>ago</td>\n",
       "      <td>``</td>\n",
       "      <td>0</td>\n",
       "      <td>0</td>\n",
       "      <td>0</td>\n",
       "      <td>0</td>\n",
       "      <td>0</td>\n",
       "      <td>0</td>\n",
       "      <td>0</td>\n",
       "      <td>0</td>\n",
       "      <td>1</td>\n",
       "    </tr>\n",
       "    <tr>\n",
       "      <th>1</th>\n",
       "      <td>NEOS</td>\n",
       "      <td>Inc</td>\n",
       "      <td>unit</td>\n",
       "      <td>0</td>\n",
       "      <td>1</td>\n",
       "      <td>0</td>\n",
       "      <td>0</td>\n",
       "      <td>0</td>\n",
       "      <td>0</td>\n",
       "      <td>0</td>\n",
       "      <td>0</td>\n",
       "      <td>0</td>\n",
       "    </tr>\n",
       "    <tr>\n",
       "      <th>2</th>\n",
       "      <td>EOS</td>\n",
       "      <td>unit</td>\n",
       "      <td>Here</td>\n",
       "      <td>0</td>\n",
       "      <td>0</td>\n",
       "      <td>1</td>\n",
       "      <td>0</td>\n",
       "      <td>0</td>\n",
       "      <td>0</td>\n",
       "      <td>0</td>\n",
       "      <td>0</td>\n",
       "      <td>0</td>\n",
       "    </tr>\n",
       "    <tr>\n",
       "      <th>3</th>\n",
       "      <td>EOS</td>\n",
       "      <td>intense</td>\n",
       "      <td>Even</td>\n",
       "      <td>0</td>\n",
       "      <td>0</td>\n",
       "      <td>1</td>\n",
       "      <td>0</td>\n",
       "      <td>0</td>\n",
       "      <td>0</td>\n",
       "      <td>0</td>\n",
       "      <td>0</td>\n",
       "      <td>0</td>\n",
       "    </tr>\n",
       "    <tr>\n",
       "      <th>4</th>\n",
       "      <td>EOS</td>\n",
       "      <td>union</td>\n",
       "      <td>Still</td>\n",
       "      <td>0</td>\n",
       "      <td>0</td>\n",
       "      <td>1</td>\n",
       "      <td>0</td>\n",
       "      <td>0</td>\n",
       "      <td>0</td>\n",
       "      <td>0</td>\n",
       "      <td>0</td>\n",
       "      <td>0</td>\n",
       "    </tr>\n",
       "  </tbody>\n",
       "</table>\n",
       "</div>"
      ],
      "text/plain": [
       "  EOS/NEOS     Left  Right  L < 3  L_capital  R_capital  R=Num  R < 2  L < 2  \\\n",
       "0      EOS      ago     ``      0          0          0      0      0      0   \n",
       "1     NEOS      Inc   unit      0          1          0      0      0      0   \n",
       "2      EOS     unit   Here      0          0          1      0      0      0   \n",
       "3      EOS  intense   Even      0          0          1      0      0      0   \n",
       "4      EOS    union  Still      0          0          1      0      0      0   \n",
       "\n",
       "   R = {  L=}  R=``  \n",
       "0      0    0     1  \n",
       "1      0    0     0  \n",
       "2      0    0     0  \n",
       "3      0    0     0  \n",
       "4      0    0     0  "
      ]
     },
     "execution_count": 31,
     "metadata": {},
     "output_type": "execute_result"
    }
   ],
   "source": [
    "test_df.head(5)"
   ]
  },
  {
   "cell_type": "code",
   "execution_count": 32,
   "metadata": {},
   "outputs": [],
   "source": [
    "train_df[\"Left\"]=train_df.index\n",
    "train_df[\"Right\"]=train_df.index\n",
    "train_df=train_df.replace({\"EOS\":1,\"NEOS\":0})"
   ]
  },
  {
   "cell_type": "code",
   "execution_count": 33,
   "metadata": {},
   "outputs": [],
   "source": [
    "dev_df[\"Left\"]=dev_df.index\n",
    "dev_df[\"Right\"]=dev_df.index\n",
    "dev_df=dev_df.replace({\"EOS\":1,\"NEOS\":0})"
   ]
  },
  {
   "cell_type": "code",
   "execution_count": 34,
   "metadata": {},
   "outputs": [],
   "source": [
    "test_df[\"Left\"]=test_df.index\n",
    "test_df[\"Right\"]=test_df.index\n",
    "test_df=test_df.replace({\"EOS\":1,\"NEOS\":0})"
   ]
  },
  {
   "cell_type": "code",
   "execution_count": 35,
   "metadata": {},
   "outputs": [
    {
     "data": {
      "text/html": [
       "<div>\n",
       "<style scoped>\n",
       "    .dataframe tbody tr th:only-of-type {\n",
       "        vertical-align: middle;\n",
       "    }\n",
       "\n",
       "    .dataframe tbody tr th {\n",
       "        vertical-align: top;\n",
       "    }\n",
       "\n",
       "    .dataframe thead th {\n",
       "        text-align: right;\n",
       "    }\n",
       "</style>\n",
       "<table border=\"1\" class=\"dataframe\">\n",
       "  <thead>\n",
       "    <tr style=\"text-align: right;\">\n",
       "      <th></th>\n",
       "      <th>EOS/NEOS</th>\n",
       "      <th>Left</th>\n",
       "      <th>Right</th>\n",
       "      <th>L &lt; 3</th>\n",
       "      <th>L_capital</th>\n",
       "      <th>R_capital</th>\n",
       "      <th>R=Num</th>\n",
       "      <th>R &lt; 2</th>\n",
       "      <th>L &lt; 2</th>\n",
       "      <th>R = {</th>\n",
       "      <th>L=}</th>\n",
       "      <th>R=``</th>\n",
       "    </tr>\n",
       "  </thead>\n",
       "  <tbody>\n",
       "    <tr>\n",
       "      <th>0</th>\n",
       "      <td>1</td>\n",
       "      <td>0</td>\n",
       "      <td>0</td>\n",
       "      <td>0</td>\n",
       "      <td>0</td>\n",
       "      <td>1</td>\n",
       "      <td>0</td>\n",
       "      <td>0</td>\n",
       "      <td>0</td>\n",
       "      <td>0</td>\n",
       "      <td>0</td>\n",
       "      <td>0</td>\n",
       "    </tr>\n",
       "    <tr>\n",
       "      <th>1</th>\n",
       "      <td>1</td>\n",
       "      <td>1</td>\n",
       "      <td>1</td>\n",
       "      <td>0</td>\n",
       "      <td>0</td>\n",
       "      <td>1</td>\n",
       "      <td>0</td>\n",
       "      <td>0</td>\n",
       "      <td>0</td>\n",
       "      <td>0</td>\n",
       "      <td>0</td>\n",
       "      <td>0</td>\n",
       "    </tr>\n",
       "    <tr>\n",
       "      <th>2</th>\n",
       "      <td>1</td>\n",
       "      <td>2</td>\n",
       "      <td>2</td>\n",
       "      <td>0</td>\n",
       "      <td>0</td>\n",
       "      <td>1</td>\n",
       "      <td>0</td>\n",
       "      <td>0</td>\n",
       "      <td>0</td>\n",
       "      <td>0</td>\n",
       "      <td>0</td>\n",
       "      <td>0</td>\n",
       "    </tr>\n",
       "    <tr>\n",
       "      <th>3</th>\n",
       "      <td>1</td>\n",
       "      <td>3</td>\n",
       "      <td>3</td>\n",
       "      <td>0</td>\n",
       "      <td>0</td>\n",
       "      <td>1</td>\n",
       "      <td>0</td>\n",
       "      <td>0</td>\n",
       "      <td>0</td>\n",
       "      <td>0</td>\n",
       "      <td>0</td>\n",
       "      <td>0</td>\n",
       "    </tr>\n",
       "    <tr>\n",
       "      <th>4</th>\n",
       "      <td>1</td>\n",
       "      <td>4</td>\n",
       "      <td>4</td>\n",
       "      <td>0</td>\n",
       "      <td>0</td>\n",
       "      <td>1</td>\n",
       "      <td>0</td>\n",
       "      <td>0</td>\n",
       "      <td>0</td>\n",
       "      <td>0</td>\n",
       "      <td>0</td>\n",
       "      <td>0</td>\n",
       "    </tr>\n",
       "  </tbody>\n",
       "</table>\n",
       "</div>"
      ],
      "text/plain": [
       "   EOS/NEOS  Left  Right  L < 3  L_capital  R_capital  R=Num  R < 2  L < 2  \\\n",
       "0         1     0      0      0          0          1      0      0      0   \n",
       "1         1     1      1      0          0          1      0      0      0   \n",
       "2         1     2      2      0          0          1      0      0      0   \n",
       "3         1     3      3      0          0          1      0      0      0   \n",
       "4         1     4      4      0          0          1      0      0      0   \n",
       "\n",
       "   R = {  L=}  R=``  \n",
       "0      0    0     0  \n",
       "1      0    0     0  \n",
       "2      0    0     0  \n",
       "3      0    0     0  \n",
       "4      0    0     0  "
      ]
     },
     "execution_count": 35,
     "metadata": {},
     "output_type": "execute_result"
    }
   ],
   "source": [
    "train_df.head(5)"
   ]
  },
  {
   "cell_type": "code",
   "execution_count": 36,
   "metadata": {},
   "outputs": [
    {
     "data": {
      "text/html": [
       "<div>\n",
       "<style scoped>\n",
       "    .dataframe tbody tr th:only-of-type {\n",
       "        vertical-align: middle;\n",
       "    }\n",
       "\n",
       "    .dataframe tbody tr th {\n",
       "        vertical-align: top;\n",
       "    }\n",
       "\n",
       "    .dataframe thead th {\n",
       "        text-align: right;\n",
       "    }\n",
       "</style>\n",
       "<table border=\"1\" class=\"dataframe\">\n",
       "  <thead>\n",
       "    <tr style=\"text-align: right;\">\n",
       "      <th></th>\n",
       "      <th>EOS/NEOS</th>\n",
       "      <th>Left</th>\n",
       "      <th>Right</th>\n",
       "      <th>L &lt; 3</th>\n",
       "      <th>L_capital</th>\n",
       "      <th>R_capital</th>\n",
       "      <th>R=Num</th>\n",
       "      <th>R &lt; 2</th>\n",
       "      <th>L &lt; 2</th>\n",
       "      <th>R = {</th>\n",
       "      <th>L=}</th>\n",
       "      <th>R=``</th>\n",
       "    </tr>\n",
       "  </thead>\n",
       "  <tbody>\n",
       "    <tr>\n",
       "      <th>0</th>\n",
       "      <td>0</td>\n",
       "      <td>0</td>\n",
       "      <td>0</td>\n",
       "      <td>0</td>\n",
       "      <td>1</td>\n",
       "      <td>0</td>\n",
       "      <td>1</td>\n",
       "      <td>0</td>\n",
       "      <td>0</td>\n",
       "      <td>0</td>\n",
       "      <td>0</td>\n",
       "      <td>0</td>\n",
       "    </tr>\n",
       "    <tr>\n",
       "      <th>1</th>\n",
       "      <td>1</td>\n",
       "      <td>1</td>\n",
       "      <td>1</td>\n",
       "      <td>1</td>\n",
       "      <td>0</td>\n",
       "      <td>1</td>\n",
       "      <td>0</td>\n",
       "      <td>0</td>\n",
       "      <td>0</td>\n",
       "      <td>0</td>\n",
       "      <td>0</td>\n",
       "      <td>0</td>\n",
       "    </tr>\n",
       "    <tr>\n",
       "      <th>2</th>\n",
       "      <td>0</td>\n",
       "      <td>2</td>\n",
       "      <td>2</td>\n",
       "      <td>1</td>\n",
       "      <td>1</td>\n",
       "      <td>1</td>\n",
       "      <td>0</td>\n",
       "      <td>0</td>\n",
       "      <td>0</td>\n",
       "      <td>0</td>\n",
       "      <td>0</td>\n",
       "      <td>0</td>\n",
       "    </tr>\n",
       "    <tr>\n",
       "      <th>3</th>\n",
       "      <td>1</td>\n",
       "      <td>3</td>\n",
       "      <td>3</td>\n",
       "      <td>0</td>\n",
       "      <td>0</td>\n",
       "      <td>1</td>\n",
       "      <td>0</td>\n",
       "      <td>0</td>\n",
       "      <td>0</td>\n",
       "      <td>0</td>\n",
       "      <td>0</td>\n",
       "      <td>0</td>\n",
       "    </tr>\n",
       "    <tr>\n",
       "      <th>4</th>\n",
       "      <td>1</td>\n",
       "      <td>4</td>\n",
       "      <td>4</td>\n",
       "      <td>0</td>\n",
       "      <td>0</td>\n",
       "      <td>1</td>\n",
       "      <td>0</td>\n",
       "      <td>1</td>\n",
       "      <td>0</td>\n",
       "      <td>0</td>\n",
       "      <td>0</td>\n",
       "      <td>0</td>\n",
       "    </tr>\n",
       "  </tbody>\n",
       "</table>\n",
       "</div>"
      ],
      "text/plain": [
       "   EOS/NEOS  Left  Right  L < 3  L_capital  R_capital  R=Num  R < 2  L < 2  \\\n",
       "0         0     0      0      0          1          0      1      0      0   \n",
       "1         1     1      1      1          0          1      0      0      0   \n",
       "2         0     2      2      1          1          1      0      0      0   \n",
       "3         1     3      3      0          0          1      0      0      0   \n",
       "4         1     4      4      0          0          1      0      1      0   \n",
       "\n",
       "   R = {  L=}  R=``  \n",
       "0      0    0     0  \n",
       "1      0    0     0  \n",
       "2      0    0     0  \n",
       "3      0    0     0  \n",
       "4      0    0     0  "
      ]
     },
     "execution_count": 36,
     "metadata": {},
     "output_type": "execute_result"
    }
   ],
   "source": [
    "dev_df.head(5)"
   ]
  },
  {
   "cell_type": "code",
   "execution_count": 37,
   "metadata": {
    "scrolled": true
   },
   "outputs": [
    {
     "data": {
      "text/html": [
       "<div>\n",
       "<style scoped>\n",
       "    .dataframe tbody tr th:only-of-type {\n",
       "        vertical-align: middle;\n",
       "    }\n",
       "\n",
       "    .dataframe tbody tr th {\n",
       "        vertical-align: top;\n",
       "    }\n",
       "\n",
       "    .dataframe thead th {\n",
       "        text-align: right;\n",
       "    }\n",
       "</style>\n",
       "<table border=\"1\" class=\"dataframe\">\n",
       "  <thead>\n",
       "    <tr style=\"text-align: right;\">\n",
       "      <th></th>\n",
       "      <th>EOS/NEOS</th>\n",
       "      <th>Left</th>\n",
       "      <th>Right</th>\n",
       "      <th>L &lt; 3</th>\n",
       "      <th>L_capital</th>\n",
       "      <th>R_capital</th>\n",
       "      <th>R=Num</th>\n",
       "      <th>R &lt; 2</th>\n",
       "      <th>L &lt; 2</th>\n",
       "      <th>R = {</th>\n",
       "      <th>L=}</th>\n",
       "      <th>R=``</th>\n",
       "    </tr>\n",
       "  </thead>\n",
       "  <tbody>\n",
       "    <tr>\n",
       "      <th>0</th>\n",
       "      <td>1</td>\n",
       "      <td>0</td>\n",
       "      <td>0</td>\n",
       "      <td>0</td>\n",
       "      <td>0</td>\n",
       "      <td>0</td>\n",
       "      <td>0</td>\n",
       "      <td>0</td>\n",
       "      <td>0</td>\n",
       "      <td>0</td>\n",
       "      <td>0</td>\n",
       "      <td>1</td>\n",
       "    </tr>\n",
       "    <tr>\n",
       "      <th>1</th>\n",
       "      <td>0</td>\n",
       "      <td>1</td>\n",
       "      <td>1</td>\n",
       "      <td>0</td>\n",
       "      <td>1</td>\n",
       "      <td>0</td>\n",
       "      <td>0</td>\n",
       "      <td>0</td>\n",
       "      <td>0</td>\n",
       "      <td>0</td>\n",
       "      <td>0</td>\n",
       "      <td>0</td>\n",
       "    </tr>\n",
       "    <tr>\n",
       "      <th>2</th>\n",
       "      <td>1</td>\n",
       "      <td>2</td>\n",
       "      <td>2</td>\n",
       "      <td>0</td>\n",
       "      <td>0</td>\n",
       "      <td>1</td>\n",
       "      <td>0</td>\n",
       "      <td>0</td>\n",
       "      <td>0</td>\n",
       "      <td>0</td>\n",
       "      <td>0</td>\n",
       "      <td>0</td>\n",
       "    </tr>\n",
       "    <tr>\n",
       "      <th>3</th>\n",
       "      <td>1</td>\n",
       "      <td>3</td>\n",
       "      <td>3</td>\n",
       "      <td>0</td>\n",
       "      <td>0</td>\n",
       "      <td>1</td>\n",
       "      <td>0</td>\n",
       "      <td>0</td>\n",
       "      <td>0</td>\n",
       "      <td>0</td>\n",
       "      <td>0</td>\n",
       "      <td>0</td>\n",
       "    </tr>\n",
       "    <tr>\n",
       "      <th>4</th>\n",
       "      <td>1</td>\n",
       "      <td>4</td>\n",
       "      <td>4</td>\n",
       "      <td>0</td>\n",
       "      <td>0</td>\n",
       "      <td>1</td>\n",
       "      <td>0</td>\n",
       "      <td>0</td>\n",
       "      <td>0</td>\n",
       "      <td>0</td>\n",
       "      <td>0</td>\n",
       "      <td>0</td>\n",
       "    </tr>\n",
       "  </tbody>\n",
       "</table>\n",
       "</div>"
      ],
      "text/plain": [
       "   EOS/NEOS  Left  Right  L < 3  L_capital  R_capital  R=Num  R < 2  L < 2  \\\n",
       "0         1     0      0      0          0          0      0      0      0   \n",
       "1         0     1      1      0          1          0      0      0      0   \n",
       "2         1     2      2      0          0          1      0      0      0   \n",
       "3         1     3      3      0          0          1      0      0      0   \n",
       "4         1     4      4      0          0          1      0      0      0   \n",
       "\n",
       "   R = {  L=}  R=``  \n",
       "0      0    0     1  \n",
       "1      0    0     0  \n",
       "2      0    0     0  \n",
       "3      0    0     0  \n",
       "4      0    0     0  "
      ]
     },
     "execution_count": 37,
     "metadata": {},
     "output_type": "execute_result"
    }
   ],
   "source": [
    "test_df.head(5)"
   ]
  },
  {
   "cell_type": "markdown",
   "metadata": {},
   "source": [
    "#### Analyzing the correlation between features with the target column:"
   ]
  },
  {
   "cell_type": "code",
   "execution_count": 38,
   "metadata": {
    "scrolled": true
   },
   "outputs": [
    {
     "name": "stdout",
     "output_type": "stream",
     "text": [
      "           EOS/NEOS      Left     Right     L < 3  L_capital  R_capital  \\\n",
      "EOS/NEOS   1.000000  0.011717  0.011717 -0.561482  -0.742352   0.368136   \n",
      "Left       0.011717  1.000000  1.000000 -0.011387  -0.000121  -0.005412   \n",
      "Right      0.011717  1.000000  1.000000 -0.011387  -0.000121  -0.005412   \n",
      "L < 3     -0.561482 -0.011387 -0.011387  1.000000   0.427095   0.067988   \n",
      "L_capital -0.742352 -0.000121 -0.000121  0.427095   1.000000  -0.281282   \n",
      "R_capital  0.368136 -0.005412 -0.005412  0.067988  -0.281282   1.000000   \n",
      "R=Num     -0.260864 -0.020033 -0.020033 -0.038513   0.201639  -0.331418   \n",
      "R < 2     -0.024090  0.000400  0.000400 -0.033453   0.016800  -0.082981   \n",
      "L < 2     -0.149931  0.007282  0.007282  0.451488   0.089452   0.060649   \n",
      "R = {     -0.000847  0.001262  0.001262 -0.004079  -0.006389  -0.021957   \n",
      "L=}        0.004289  0.004280  0.004280  0.019182  -0.005533  -0.003963   \n",
      "R=``       0.130887  0.005126  0.005126 -0.085952  -0.072319  -0.593529   \n",
      "\n",
      "              R=Num     R < 2     L < 2     R = {       L=}      R=``  \n",
      "EOS/NEOS  -0.260864 -0.024090 -0.149931 -0.000847  0.004289  0.130887  \n",
      "Left      -0.020033  0.000400  0.007282  0.001262  0.004280  0.005126  \n",
      "Right     -0.020033  0.000400  0.007282  0.001262  0.004280  0.005126  \n",
      "L < 3     -0.038513 -0.033453  0.451488 -0.004079  0.019182 -0.085952  \n",
      "L_capital  0.201639  0.016800  0.089452 -0.006389 -0.005533 -0.072319  \n",
      "R_capital -0.331418 -0.082981  0.060649 -0.021957 -0.003963 -0.593529  \n",
      "R=Num      1.000000  0.273233 -0.025215 -0.001364 -0.001181 -0.036861  \n",
      "R < 2      0.273233  1.000000 -0.016284  0.053375 -0.001466 -0.045754  \n",
      "L < 2     -0.025215 -0.016284  1.000000 -0.001842  0.042486 -0.034224  \n",
      "R = {     -0.001364  0.053375 -0.001842  1.000000 -0.000078 -0.002442  \n",
      "L=}       -0.001181 -0.001466  0.042486 -0.000078  1.000000  0.009269  \n",
      "R=``      -0.036861 -0.045754 -0.034224 -0.002442  0.009269  1.000000  \n"
     ]
    }
   ],
   "source": [
    "corr_matrix=train_df.corr()\n",
    "print(corr_matrix)"
   ]
  },
  {
   "cell_type": "code",
   "execution_count": 39,
   "metadata": {},
   "outputs": [
    {
     "name": "stdout",
     "output_type": "stream",
     "text": [
      "EOS/NEOS     1.000000\n",
      "Left         0.011717\n",
      "Right        0.011717\n",
      "L < 3       -0.561482\n",
      "L_capital   -0.742352\n",
      "R_capital    0.368136\n",
      "R=Num       -0.260864\n",
      "R < 2       -0.024090\n",
      "L < 2       -0.149931\n",
      "R = {       -0.000847\n",
      "L=}          0.004289\n",
      "R=``         0.130887\n",
      "Name: EOS/NEOS, dtype: float64\n"
     ]
    }
   ],
   "source": [
    "features_rel = corr_matrix['EOS/NEOS']\n",
    "print(features_rel)\n"
   ]
  },
  {
   "cell_type": "code",
   "execution_count": 40,
   "metadata": {},
   "outputs": [
    {
     "name": "stdout",
     "output_type": "stream",
     "text": [
      "EOS/NEOS     1.000000\n",
      "L < 3       -0.561482\n",
      "L_capital   -0.742352\n",
      "R_capital    0.368136\n",
      "R=Num       -0.260864\n",
      "Name: EOS/NEOS, dtype: float64\n"
     ]
    }
   ],
   "source": [
    "cor_features = features_rel[abs(features_rel) > 0.2]\n",
    "print(cor_features)"
   ]
  },
  {
   "cell_type": "markdown",
   "metadata": {},
   "source": [
    "As we can see the correlation of \"Left token < 3\" and \"Left token capital\" are highly negative with the target variable.\n",
    "Therefore, these two features can be important for sentence boundary classification."
   ]
  },
  {
   "cell_type": "markdown",
   "metadata": {},
   "source": [
    "#### Training the Model"
   ]
  },
  {
   "cell_type": "code",
   "execution_count": 41,
   "metadata": {},
   "outputs": [],
   "source": [
    "model = DecisionTreeClassifier(max_depth=2,random_state=1)"
   ]
  },
  {
   "cell_type": "code",
   "execution_count": 42,
   "metadata": {},
   "outputs": [],
   "source": [
    "x_train=train_df.drop('EOS/NEOS',axis=1)\n",
    "y_train=train_df[['EOS/NEOS']]"
   ]
  },
  {
   "cell_type": "code",
   "execution_count": 43,
   "metadata": {},
   "outputs": [
    {
     "data": {
      "text/plain": [
       "DecisionTreeClassifier(ccp_alpha=0.0, class_weight=None, criterion='gini',\n",
       "                       max_depth=2, max_features=None, max_leaf_nodes=None,\n",
       "                       min_impurity_decrease=0.0, min_impurity_split=None,\n",
       "                       min_samples_leaf=1, min_samples_split=2,\n",
       "                       min_weight_fraction_leaf=0.0, presort='deprecated',\n",
       "                       random_state=1, splitter='best')"
      ]
     },
     "execution_count": 43,
     "metadata": {},
     "output_type": "execute_result"
    }
   ],
   "source": [
    "model.fit(x_train,y_train)"
   ]
  },
  {
   "cell_type": "markdown",
   "metadata": {},
   "source": [
    "#### Validating on dev set"
   ]
  },
  {
   "cell_type": "code",
   "execution_count": 44,
   "metadata": {},
   "outputs": [],
   "source": [
    "x_dev=dev_df.drop('EOS/NEOS',axis=1)\n",
    "y_dev=dev_df[[\"EOS/NEOS\"]]"
   ]
  },
  {
   "cell_type": "code",
   "execution_count": 45,
   "metadata": {},
   "outputs": [],
   "source": [
    "y_pred=model.predict(x_dev)"
   ]
  },
  {
   "cell_type": "code",
   "execution_count": 46,
   "metadata": {},
   "outputs": [
    {
     "name": "stdout",
     "output_type": "stream",
     "text": [
      "              precision    recall  f1-score   support\n",
      "\n",
      "           0       0.96      0.54      0.69      1766\n",
      "           1       0.87      0.99      0.93      5769\n",
      "\n",
      "    accuracy                           0.89      7535\n",
      "   macro avg       0.92      0.76      0.81      7535\n",
      "weighted avg       0.90      0.89      0.87      7535\n",
      "\n"
     ]
    }
   ],
   "source": [
    "print(classification_report(y_dev, y_pred))"
   ]
  },
  {
   "cell_type": "markdown",
   "metadata": {},
   "source": [
    "#### Evaluating the feature importance"
   ]
  },
  {
   "cell_type": "code",
   "execution_count": 47,
   "metadata": {},
   "outputs": [
    {
     "name": "stdout",
     "output_type": "stream",
     "text": [
      "{'EOS/NEOS': 0.0, 'Left': 0.0, 'Right': 0.1520049061424833, 'L < 3': 0.8460748478543719, 'L_capital': 0.0019202460031448538, 'R_capital': 0.0, 'R=Num': 0.0, 'R < 2': 0.0, 'L < 2': 0.0, 'R = {': 0.0, 'L=}': 0.0}\n"
     ]
    }
   ],
   "source": [
    "model.feature_importances_\n",
    "print(dict(zip(dev_df.columns, model.feature_importances_)))"
   ]
  },
  {
   "cell_type": "code",
   "execution_count": 48,
   "metadata": {},
   "outputs": [],
   "source": [
    "x_test=test_df.drop('EOS/NEOS',axis=1)\n",
    "y_test=test_df[[\"EOS/NEOS\"]]"
   ]
  },
  {
   "cell_type": "code",
   "execution_count": 49,
   "metadata": {},
   "outputs": [],
   "source": [
    "y_pred_test=model.predict(x_test)"
   ]
  },
  {
   "cell_type": "code",
   "execution_count": 50,
   "metadata": {},
   "outputs": [
    {
     "name": "stdout",
     "output_type": "stream",
     "text": [
      "              precision    recall  f1-score   support\n",
      "\n",
      "           0       0.96      0.56      0.71      2205\n",
      "           1       0.89      0.99      0.94      7531\n",
      "\n",
      "    accuracy                           0.90      9736\n",
      "   macro avg       0.92      0.78      0.82      9736\n",
      "weighted avg       0.90      0.90      0.89      9736\n",
      "\n"
     ]
    }
   ],
   "source": [
    "print(classification_report(y_test, y_pred_test))"
   ]
  },
  {
   "cell_type": "markdown",
   "metadata": {},
   "source": [
    "The model performed well on the test set using the extracted features with accuracy of 90.\n",
    "Also the precision for both the classes are pretty well.\n",
    "Overall both regex based and feature extraction based approach worked well on sentence segmentation task"
   ]
  }
 ],
 "metadata": {
  "kernelspec": {
   "display_name": "Python 3",
   "language": "python",
   "name": "python3"
  },
  "language_info": {
   "codemirror_mode": {
    "name": "ipython",
    "version": 3
   },
   "file_extension": ".py",
   "mimetype": "text/x-python",
   "name": "python",
   "nbconvert_exporter": "python",
   "pygments_lexer": "ipython3",
   "version": "3.7.5"
  }
 },
 "nbformat": 4,
 "nbformat_minor": 2
}